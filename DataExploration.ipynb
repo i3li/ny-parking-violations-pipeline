{
 "cells": [
  {
   "cell_type": "markdown",
   "metadata": {},
   "source": [
    "\n",
    "1.  [Columns](#Columns)\n",
    "    1.  [Summons Number](#Summons-Number)\n",
    "    2.  [Plate ID](#Plate-ID)\n",
    "    3.  [Registration State](#Registration-State)\n",
    "        1.  [Mapping states](#Mapping-states)\n",
    "    4.  [Plate Type](#Plate-Type)\n",
    "        1.  [Mapping plate types](#Mapping-plate-types)\n",
    "        2.  [Vehicles with multiple Plate Types!](#Vehicles-with-multiple-Plate-Types!)\n",
    "    5.  [Issue Date](#Issue-Date)\n",
    "    6.  [Violation Code](#Violation-Code)\n",
    "        1.  [Mapping violation code](#Mapping-violation-code)\n",
    "    7.  [Vehicle Body Type](#Vehicle-Body-Type)\n",
    "        1.  [Mapping vehicle body type](#Mapping-vehicle-body-type)\n",
    "    8.  [Vehicle Make](#Vehicle-Make)\n",
    "    9.  [Issuing Agency](#Issuing-Agency)\n",
    "        1.  [Mapping issuing agencies](#Mapping-issuing-agencies)\n",
    "    10.  [Street Code1](#Street-Code1)\n",
    "    11.  [Street Code2](#Street-Code2)\n",
    "    12.  [Street Code3](#Street-Code3)\n",
    "    13.  [Vehicle Expiration Date](#Vehicle-Expiration-Date)\n",
    "    14.  [Violation Location](#Violation-Location)\n",
    "    15.  [Violation Precinct](#Violation-Precinct)\n",
    "        1.  [Violations in the same streets may have different precinct.](#Violations-in-the-same-streets-may-have-different-precinct.)\n",
    "    16.  [Issuer Precinct](#Issuer-Precinct)\n",
    "    17.  [Issuer Code](#Issuer-Code)\n",
    "    18.  [Issuer Command](#Issuer-Command)\n",
    "    19.  [Issuer Squad](#Issuer-Squad)\n",
    "    20.  [Violation Time](#Violation-Time)\n",
    "    21.  [Time First Observed](#Time-First-Observed)\n",
    "    22.  [Violation County](#Violation-County)\n",
    "        1.  [Mapping Violation County](#Mapping-Violation-County)\n",
    "    23.  [Violation In Front Of Or Opposite](#Violation-In-Front-Of-Or-Opposite)\n",
    "        1.  [Mapping Violation In Front Of Or Opposite](#Mapping-Violation-In-Front-Of-Or-Opposite)\n",
    "    24.  [House Number](#House-Number)\n",
    "    25.  [Street Name](#Street-Name)\n",
    "    26.  [Intersecting Street](#Intersecting-Street)\n",
    "    27.  [Date First Observed](#Date-First-Observed)\n",
    "    28.  [Law Section](#Law-Section)\n",
    "    29.  [Sub Division](#Sub-Division)\n",
    "    30.  [Violation Legal Code](#Violation-Legal-Code)\n",
    "    31.  [Days Parking In Effect](#Days-Parking-In-Effect)\n",
    "    32.  [From Hours In Effect](#From-Hours-In-Effect)\n",
    "    33.  [To Hours In Effect](#To-Hours-In-Effect)\n",
    "    34.  [Unregistered Vehicle?](#Unregistered-Vehicle?)\n",
    "    35.  [Meter Number](#Meter-Number)\n",
    "    36.  [Feet From Curb](#Feet-From-Curb)\n",
    "    37.  [Violation Post Code](#Violation-Post-Code)\n",
    "    38.  [Violation Description](#Violation-Description)\n",
    "    39.  [No Standing or Stopping Violation](#No-Standing-or-Stopping-Violation)\n",
    "    40.  [Hydrant Violation](#Hydrant-Violation)\n",
    "    41.  [Double Parking Violation](#Double-Parking-Violation)"
   ]
  },
  {
   "cell_type": "code",
   "execution_count": 1,
   "metadata": {},
   "outputs": [],
   "source": [
    "import numpy as np\n",
    "import pandas as pd"
   ]
  },
  {
   "cell_type": "code",
   "execution_count": 2,
   "metadata": {},
   "outputs": [
    {
     "name": "stderr",
     "output_type": "stream",
     "text": [
      "/usr/local/lib/python3.7/site-packages/IPython/core/interactiveshell.py:3058: DtypeWarning: Columns (17,18,20,22,23,26,27,29,30,31,32,36,38,39) have mixed types. Specify dtype option on import or set low_memory=False.\n",
      "  interactivity=interactivity, compiler=compiler, result=result)\n"
     ]
    }
   ],
   "source": [
    "df = pd.read_csv(\"./Dataset/Parking_Violations_Issued_-_Fiscal_Year_2020.csv\", sep=';')"
   ]
  },
  {
   "cell_type": "code",
   "execution_count": 3,
   "metadata": {},
   "outputs": [
    {
     "data": {
      "text/html": [
       "<div>\n",
       "<style scoped>\n",
       "    .dataframe tbody tr th:only-of-type {\n",
       "        vertical-align: middle;\n",
       "    }\n",
       "\n",
       "    .dataframe tbody tr th {\n",
       "        vertical-align: top;\n",
       "    }\n",
       "\n",
       "    .dataframe thead th {\n",
       "        text-align: right;\n",
       "    }\n",
       "</style>\n",
       "<table border=\"1\" class=\"dataframe\">\n",
       "  <thead>\n",
       "    <tr style=\"text-align: right;\">\n",
       "      <th></th>\n",
       "      <th>Summons Number</th>\n",
       "      <th>Plate ID</th>\n",
       "      <th>Registration State</th>\n",
       "      <th>Plate Type</th>\n",
       "      <th>Issue Date</th>\n",
       "      <th>Violation Code</th>\n",
       "      <th>Vehicle Body Type</th>\n",
       "      <th>Vehicle Make</th>\n",
       "      <th>Issuing Agency</th>\n",
       "      <th>Street Code1</th>\n",
       "      <th>...</th>\n",
       "      <th>Vehicle Color</th>\n",
       "      <th>Unregistered Vehicle?</th>\n",
       "      <th>Vehicle Year</th>\n",
       "      <th>Meter Number</th>\n",
       "      <th>Feet From Curb</th>\n",
       "      <th>Violation Post Code</th>\n",
       "      <th>Violation Description</th>\n",
       "      <th>No Standing or Stopping Violation</th>\n",
       "      <th>Hydrant Violation</th>\n",
       "      <th>Double Parking Violation</th>\n",
       "    </tr>\n",
       "  </thead>\n",
       "  <tbody>\n",
       "    <tr>\n",
       "      <th>0</th>\n",
       "      <td>1447152396</td>\n",
       "      <td>JET2661</td>\n",
       "      <td>NY</td>\n",
       "      <td>PAS</td>\n",
       "      <td>06/28/2019</td>\n",
       "      <td>21</td>\n",
       "      <td>SDN</td>\n",
       "      <td>BMW</td>\n",
       "      <td>P</td>\n",
       "      <td>27390</td>\n",
       "      <td>...</td>\n",
       "      <td>GRY</td>\n",
       "      <td>0.0</td>\n",
       "      <td>0</td>\n",
       "      <td>-</td>\n",
       "      <td>0</td>\n",
       "      <td>NaN</td>\n",
       "      <td>NaN</td>\n",
       "      <td>NaN</td>\n",
       "      <td>NaN</td>\n",
       "      <td>NaN</td>\n",
       "    </tr>\n",
       "    <tr>\n",
       "      <th>1</th>\n",
       "      <td>1447152402</td>\n",
       "      <td>JCV6523</td>\n",
       "      <td>NY</td>\n",
       "      <td>PAS</td>\n",
       "      <td>06/28/2019</td>\n",
       "      <td>20</td>\n",
       "      <td>SDN</td>\n",
       "      <td>TOYOT</td>\n",
       "      <td>P</td>\n",
       "      <td>36290</td>\n",
       "      <td>...</td>\n",
       "      <td>GY</td>\n",
       "      <td>0.0</td>\n",
       "      <td>0</td>\n",
       "      <td>-</td>\n",
       "      <td>0</td>\n",
       "      <td>NaN</td>\n",
       "      <td>NaN</td>\n",
       "      <td>NaN</td>\n",
       "      <td>NaN</td>\n",
       "      <td>NaN</td>\n",
       "    </tr>\n",
       "    <tr>\n",
       "      <th>2</th>\n",
       "      <td>1447152554</td>\n",
       "      <td>GMK6954</td>\n",
       "      <td>NY</td>\n",
       "      <td>PAS</td>\n",
       "      <td>06/16/2019</td>\n",
       "      <td>19</td>\n",
       "      <td>SUBN</td>\n",
       "      <td>BMW</td>\n",
       "      <td>P</td>\n",
       "      <td>36270</td>\n",
       "      <td>...</td>\n",
       "      <td>BLK</td>\n",
       "      <td>0.0</td>\n",
       "      <td>2019</td>\n",
       "      <td>-</td>\n",
       "      <td>0</td>\n",
       "      <td>NaN</td>\n",
       "      <td>NaN</td>\n",
       "      <td>NaN</td>\n",
       "      <td>NaN</td>\n",
       "      <td>NaN</td>\n",
       "    </tr>\n",
       "    <tr>\n",
       "      <th>3</th>\n",
       "      <td>1447152580</td>\n",
       "      <td>JGX1641</td>\n",
       "      <td>NY</td>\n",
       "      <td>PAS</td>\n",
       "      <td>06/24/2019</td>\n",
       "      <td>19</td>\n",
       "      <td>SDN</td>\n",
       "      <td>AUDI</td>\n",
       "      <td>P</td>\n",
       "      <td>36270</td>\n",
       "      <td>...</td>\n",
       "      <td>BLK</td>\n",
       "      <td>0.0</td>\n",
       "      <td>2015</td>\n",
       "      <td>-</td>\n",
       "      <td>0</td>\n",
       "      <td>NaN</td>\n",
       "      <td>NaN</td>\n",
       "      <td>NaN</td>\n",
       "      <td>NaN</td>\n",
       "      <td>NaN</td>\n",
       "    </tr>\n",
       "    <tr>\n",
       "      <th>4</th>\n",
       "      <td>1447152724</td>\n",
       "      <td>GDM8069</td>\n",
       "      <td>NY</td>\n",
       "      <td>COM</td>\n",
       "      <td>07/06/2019</td>\n",
       "      <td>48</td>\n",
       "      <td>NaN</td>\n",
       "      <td>NaN</td>\n",
       "      <td>P</td>\n",
       "      <td>31190</td>\n",
       "      <td>...</td>\n",
       "      <td>NaN</td>\n",
       "      <td>0.0</td>\n",
       "      <td>0</td>\n",
       "      <td>-</td>\n",
       "      <td>0</td>\n",
       "      <td>NaN</td>\n",
       "      <td>NaN</td>\n",
       "      <td>NaN</td>\n",
       "      <td>NaN</td>\n",
       "      <td>NaN</td>\n",
       "    </tr>\n",
       "  </tbody>\n",
       "</table>\n",
       "<p>5 rows × 43 columns</p>\n",
       "</div>"
      ],
      "text/plain": [
       "   Summons Number Plate ID Registration State Plate Type  Issue Date  \\\n",
       "0      1447152396  JET2661                 NY        PAS  06/28/2019   \n",
       "1      1447152402  JCV6523                 NY        PAS  06/28/2019   \n",
       "2      1447152554  GMK6954                 NY        PAS  06/16/2019   \n",
       "3      1447152580  JGX1641                 NY        PAS  06/24/2019   \n",
       "4      1447152724  GDM8069                 NY        COM  07/06/2019   \n",
       "\n",
       "   Violation Code Vehicle Body Type Vehicle Make Issuing Agency  Street Code1  \\\n",
       "0              21               SDN          BMW              P         27390   \n",
       "1              20               SDN        TOYOT              P         36290   \n",
       "2              19              SUBN          BMW              P         36270   \n",
       "3              19               SDN         AUDI              P         36270   \n",
       "4              48               NaN          NaN              P         31190   \n",
       "\n",
       "   ...  Vehicle Color  Unregistered Vehicle?  Vehicle Year  Meter Number  \\\n",
       "0  ...            GRY                    0.0             0             -   \n",
       "1  ...             GY                    0.0             0             -   \n",
       "2  ...            BLK                    0.0          2019             -   \n",
       "3  ...            BLK                    0.0          2015             -   \n",
       "4  ...            NaN                    0.0             0             -   \n",
       "\n",
       "   Feet From Curb  Violation Post Code  Violation Description  \\\n",
       "0               0                  NaN                    NaN   \n",
       "1               0                  NaN                    NaN   \n",
       "2               0                  NaN                    NaN   \n",
       "3               0                  NaN                    NaN   \n",
       "4               0                  NaN                    NaN   \n",
       "\n",
       "  No Standing or Stopping Violation Hydrant Violation Double Parking Violation  \n",
       "0                               NaN               NaN                      NaN  \n",
       "1                               NaN               NaN                      NaN  \n",
       "2                               NaN               NaN                      NaN  \n",
       "3                               NaN               NaN                      NaN  \n",
       "4                               NaN               NaN                      NaN  \n",
       "\n",
       "[5 rows x 43 columns]"
      ]
     },
     "execution_count": 3,
     "metadata": {},
     "output_type": "execute_result"
    }
   ],
   "source": [
    "df.head()"
   ]
  },
  {
   "cell_type": "code",
   "execution_count": 432,
   "metadata": {},
   "outputs": [
    {
     "data": {
      "text/plain": [
       "4984034"
      ]
     },
     "execution_count": 432,
     "metadata": {},
     "output_type": "execute_result"
    }
   ],
   "source": [
    "len(df)"
   ]
  },
  {
   "cell_type": "markdown",
   "metadata": {},
   "source": [
    "# Columns"
   ]
  },
  {
   "cell_type": "code",
   "execution_count": 14,
   "metadata": {
    "scrolled": false
   },
   "outputs": [
    {
     "data": {
      "text/plain": [
       "Summons Number                         int64\n",
       "Plate ID                              object\n",
       "Registration State                    object\n",
       "Plate Type                            object\n",
       "Issue Date                            object\n",
       "Violation Code                         int64\n",
       "Vehicle Body Type                     object\n",
       "Vehicle Make                          object\n",
       "Issuing Agency                        object\n",
       "Street Code1                           int64\n",
       "Street Code2                           int64\n",
       "Street Code3                           int64\n",
       "Vehicle Expiration Date                int64\n",
       "Violation Location                   float64\n",
       "Violation Precinct                     int64\n",
       "Issuer Precinct                        int64\n",
       "Issuer Code                            int64\n",
       "Issuer Command                        object\n",
       "Issuer Squad                          object\n",
       "Violation Time                        object\n",
       "Time First Observed                   object\n",
       "Violation County                      object\n",
       "Violation In Front Of Or Opposite     object\n",
       "House Number                          object\n",
       "Street Name                           object\n",
       "Intersecting Street                   object\n",
       "Date First Observed                   object\n",
       "Law Section                           object\n",
       "Sub Division                          object\n",
       "Violation Legal Code                  object\n",
       "Days Parking In Effect                object\n",
       "From Hours In Effect                  object\n",
       "To Hours In Effect                    object\n",
       "Vehicle Color                         object\n",
       "Unregistered Vehicle?                float64\n",
       "Vehicle Year                           int64\n",
       "Meter Number                          object\n",
       "Feet From Curb                         int64\n",
       "Violation Post Code                   object\n",
       "Violation Description                 object\n",
       "No Standing or Stopping Violation    float64\n",
       "Hydrant Violation                    float64\n",
       "Double Parking Violation             float64\n",
       "dtype: object"
      ]
     },
     "execution_count": 14,
     "metadata": {},
     "output_type": "execute_result"
    }
   ],
   "source": [
    "df.dtypes"
   ]
  },
  {
   "cell_type": "markdown",
   "metadata": {},
   "source": [
    "## Summons Number"
   ]
  },
  {
   "cell_type": "markdown",
   "metadata": {},
   "source": [
    "**No missing values**"
   ]
  },
  {
   "cell_type": "code",
   "execution_count": 21,
   "metadata": {},
   "outputs": [
    {
     "data": {
      "text/plain": [
       "False"
      ]
     },
     "execution_count": 21,
     "metadata": {},
     "output_type": "execute_result"
    }
   ],
   "source": [
    "df['Summons Number'].isna().any()"
   ]
  },
  {
   "cell_type": "markdown",
   "metadata": {},
   "source": [
    "**No duplicates**"
   ]
  },
  {
   "cell_type": "code",
   "execution_count": 20,
   "metadata": {},
   "outputs": [
    {
     "data": {
      "text/plain": [
       "False"
      ]
     },
     "execution_count": 20,
     "metadata": {},
     "output_type": "execute_result"
    }
   ],
   "source": [
    "df['Summons Number'].duplicated().any()"
   ]
  },
  {
   "cell_type": "markdown",
   "metadata": {},
   "source": [
    "## Plate ID"
   ]
  },
  {
   "cell_type": "markdown",
   "metadata": {},
   "source": [
    "**Very few missing values**  \n",
    "Action: **Drop rows with missing Plate ID's**"
   ]
  },
  {
   "cell_type": "code",
   "execution_count": 32,
   "metadata": {},
   "outputs": [
    {
     "data": {
      "text/plain": [
       "True"
      ]
     },
     "execution_count": 32,
     "metadata": {},
     "output_type": "execute_result"
    }
   ],
   "source": [
    "df['Plate ID'].isna().any()"
   ]
  },
  {
   "cell_type": "code",
   "execution_count": 153,
   "metadata": {},
   "outputs": [
    {
     "data": {
      "text/plain": [
       "92"
      ]
     },
     "execution_count": 153,
     "metadata": {},
     "output_type": "execute_result"
    }
   ],
   "source": [
    "len(df[df['Plate ID'].isna()])"
   ]
  },
  {
   "cell_type": "markdown",
   "metadata": {},
   "source": [
    "**A lot of duplicate values, which is okay since multiple violations can be linked with one car. However, we need to make sure that all vehicle attributes are the same of the same plate id.**"
   ]
  },
  {
   "cell_type": "code",
   "execution_count": 43,
   "metadata": {},
   "outputs": [
    {
     "data": {
      "text/plain": [
       "True"
      ]
     },
     "execution_count": 43,
     "metadata": {},
     "output_type": "execute_result"
    }
   ],
   "source": [
    "df['Plate ID'].duplicated().any()"
   ]
  },
  {
   "cell_type": "code",
   "execution_count": 44,
   "metadata": {},
   "outputs": [
    {
     "data": {
      "text/plain": [
       "3082197"
      ]
     },
     "execution_count": 44,
     "metadata": {},
     "output_type": "execute_result"
    }
   ],
   "source": [
    "len(df[df['Plate ID'].duplicated()])"
   ]
  },
  {
   "cell_type": "markdown",
   "metadata": {},
   "source": [
    "**NOTE**: Two different vehicles from different registration states can have the same plate id. Also, two vehicles within the same state can have the same plate id if they have differeent body type.  \n",
    "So, a combination of `Plate ID`, `Registration State`, and `Vehicle Body Type` should be a good identifier for vehicles (e.g., concatinating the three columns)."
   ]
  },
  {
   "cell_type": "code",
   "execution_count": 214,
   "metadata": {},
   "outputs": [],
   "source": [
    "vehicles_df = df[\n",
    "    ['Plate ID', 'Registration State', 'Plate Type', 'Vehicle Body Type',\n",
    "    'Vehicle Make', 'Vehicle Color', 'Vehicle Year', 'Unregistered Vehicle?']\n",
    "].drop_duplicates()"
   ]
  },
  {
   "cell_type": "code",
   "execution_count": 320,
   "metadata": {},
   "outputs": [
    {
     "data": {
      "text/html": [
       "<div>\n",
       "<style scoped>\n",
       "    .dataframe tbody tr th:only-of-type {\n",
       "        vertical-align: middle;\n",
       "    }\n",
       "\n",
       "    .dataframe tbody tr th {\n",
       "        vertical-align: top;\n",
       "    }\n",
       "\n",
       "    .dataframe thead th {\n",
       "        text-align: right;\n",
       "    }\n",
       "</style>\n",
       "<table border=\"1\" class=\"dataframe\">\n",
       "  <thead>\n",
       "    <tr style=\"text-align: right;\">\n",
       "      <th></th>\n",
       "      <th>Plate ID</th>\n",
       "      <th>Registration State</th>\n",
       "      <th>Plate Type</th>\n",
       "      <th>Vehicle Body Type</th>\n",
       "      <th>Vehicle Make</th>\n",
       "      <th>Vehicle Color</th>\n",
       "      <th>Vehicle Year</th>\n",
       "      <th>Unregistered Vehicle?</th>\n",
       "    </tr>\n",
       "  </thead>\n",
       "  <tbody>\n",
       "    <tr>\n",
       "      <th>2785232</th>\n",
       "      <td>0001CCD</td>\n",
       "      <td>DP</td>\n",
       "      <td>PAS</td>\n",
       "      <td>SUBN</td>\n",
       "      <td>CHEVR</td>\n",
       "      <td>BK</td>\n",
       "      <td>0</td>\n",
       "      <td>0.0</td>\n",
       "    </tr>\n",
       "    <tr>\n",
       "      <th>1900386</th>\n",
       "      <td>0001CCD</td>\n",
       "      <td>DP</td>\n",
       "      <td>PAS</td>\n",
       "      <td>SUBN</td>\n",
       "      <td>CHEVR</td>\n",
       "      <td>BLACK</td>\n",
       "      <td>0</td>\n",
       "      <td>NaN</td>\n",
       "    </tr>\n",
       "    <tr>\n",
       "      <th>673303</th>\n",
       "      <td>0001FJD</td>\n",
       "      <td>DP</td>\n",
       "      <td>PAS</td>\n",
       "      <td>4DSD</td>\n",
       "      <td>BMW</td>\n",
       "      <td>BLACK</td>\n",
       "      <td>0</td>\n",
       "      <td>NaN</td>\n",
       "    </tr>\n",
       "    <tr>\n",
       "      <th>4071968</th>\n",
       "      <td>0001FJD</td>\n",
       "      <td>DP</td>\n",
       "      <td>PAS</td>\n",
       "      <td>SDN</td>\n",
       "      <td>BMW</td>\n",
       "      <td>BK</td>\n",
       "      <td>0</td>\n",
       "      <td>0.0</td>\n",
       "    </tr>\n",
       "    <tr>\n",
       "      <th>2228483</th>\n",
       "      <td>0001FJD</td>\n",
       "      <td>GV</td>\n",
       "      <td>PAS</td>\n",
       "      <td>4DSD</td>\n",
       "      <td>BMW</td>\n",
       "      <td>BLACK</td>\n",
       "      <td>0</td>\n",
       "      <td>NaN</td>\n",
       "    </tr>\n",
       "    <tr>\n",
       "      <th>...</th>\n",
       "      <td>...</td>\n",
       "      <td>...</td>\n",
       "      <td>...</td>\n",
       "      <td>...</td>\n",
       "      <td>...</td>\n",
       "      <td>...</td>\n",
       "      <td>...</td>\n",
       "      <td>...</td>\n",
       "    </tr>\n",
       "    <tr>\n",
       "      <th>4382154</th>\n",
       "      <td>NaN</td>\n",
       "      <td>NY</td>\n",
       "      <td>MOT</td>\n",
       "      <td>MCY</td>\n",
       "      <td>YAMAH</td>\n",
       "      <td>BLACK</td>\n",
       "      <td>0</td>\n",
       "      <td>NaN</td>\n",
       "    </tr>\n",
       "    <tr>\n",
       "      <th>4383892</th>\n",
       "      <td>NaN</td>\n",
       "      <td>NY</td>\n",
       "      <td>999</td>\n",
       "      <td>VAN</td>\n",
       "      <td>FORD</td>\n",
       "      <td>WHITE</td>\n",
       "      <td>0</td>\n",
       "      <td>NaN</td>\n",
       "    </tr>\n",
       "    <tr>\n",
       "      <th>4383995</th>\n",
       "      <td>NaN</td>\n",
       "      <td>NY</td>\n",
       "      <td>MCL</td>\n",
       "      <td>MCY</td>\n",
       "      <td>DUCAT</td>\n",
       "      <td>GREY</td>\n",
       "      <td>2003</td>\n",
       "      <td>NaN</td>\n",
       "    </tr>\n",
       "    <tr>\n",
       "      <th>4430881</th>\n",
       "      <td>NaN</td>\n",
       "      <td>SD</td>\n",
       "      <td>PAS</td>\n",
       "      <td>4DSD</td>\n",
       "      <td>ME/BE</td>\n",
       "      <td>WHITE</td>\n",
       "      <td>0</td>\n",
       "      <td>NaN</td>\n",
       "    </tr>\n",
       "    <tr>\n",
       "      <th>4915111</th>\n",
       "      <td>NaN</td>\n",
       "      <td>NY</td>\n",
       "      <td>PAS</td>\n",
       "      <td>4DSD</td>\n",
       "      <td>TOYOT</td>\n",
       "      <td>BLUE</td>\n",
       "      <td>0</td>\n",
       "      <td>NaN</td>\n",
       "    </tr>\n",
       "  </tbody>\n",
       "</table>\n",
       "<p>726227 rows × 8 columns</p>\n",
       "</div>"
      ],
      "text/plain": [
       "        Plate ID Registration State Plate Type Vehicle Body Type Vehicle Make  \\\n",
       "2785232  0001CCD                 DP        PAS              SUBN        CHEVR   \n",
       "1900386  0001CCD                 DP        PAS              SUBN        CHEVR   \n",
       "673303   0001FJD                 DP        PAS              4DSD          BMW   \n",
       "4071968  0001FJD                 DP        PAS               SDN          BMW   \n",
       "2228483  0001FJD                 GV        PAS              4DSD          BMW   \n",
       "...          ...                ...        ...               ...          ...   \n",
       "4382154      NaN                 NY        MOT               MCY        YAMAH   \n",
       "4383892      NaN                 NY        999               VAN         FORD   \n",
       "4383995      NaN                 NY        MCL               MCY        DUCAT   \n",
       "4430881      NaN                 SD        PAS              4DSD        ME/BE   \n",
       "4915111      NaN                 NY        PAS              4DSD        TOYOT   \n",
       "\n",
       "        Vehicle Color  Vehicle Year  Unregistered Vehicle?  \n",
       "2785232            BK             0                    0.0  \n",
       "1900386         BLACK             0                    NaN  \n",
       "673303          BLACK             0                    NaN  \n",
       "4071968            BK             0                    0.0  \n",
       "2228483         BLACK             0                    NaN  \n",
       "...               ...           ...                    ...  \n",
       "4382154         BLACK             0                    NaN  \n",
       "4383892         WHITE             0                    NaN  \n",
       "4383995          GREY          2003                    NaN  \n",
       "4430881         WHITE             0                    NaN  \n",
       "4915111          BLUE             0                    NaN  \n",
       "\n",
       "[726227 rows x 8 columns]"
      ]
     },
     "execution_count": 320,
     "metadata": {},
     "output_type": "execute_result"
    }
   ],
   "source": [
    "vehicles_df[vehicles_df['Plate ID'].duplicated(keep=False)].sort_values('Plate ID')"
   ]
  },
  {
   "cell_type": "code",
   "execution_count": 216,
   "metadata": {},
   "outputs": [],
   "source": [
    "df['Vehicle ID'] = df['Registration State'] + df['Plate ID'] + df['Vehicle Body Type']"
   ]
  },
  {
   "cell_type": "markdown",
   "metadata": {},
   "source": [
    "## Registration State"
   ]
  },
  {
   "cell_type": "markdown",
   "metadata": {},
   "source": [
    "**No missing values**"
   ]
  },
  {
   "cell_type": "code",
   "execution_count": 50,
   "metadata": {},
   "outputs": [
    {
     "data": {
      "text/plain": [
       "False"
      ]
     },
     "execution_count": 50,
     "metadata": {},
     "output_type": "execute_result"
    }
   ],
   "source": [
    "df['Registration State'].isna().any()"
   ]
  },
  {
   "cell_type": "markdown",
   "metadata": {},
   "source": [
    "**A lot of duplicate values, which is obviously okay.**"
   ]
  },
  {
   "cell_type": "code",
   "execution_count": 54,
   "metadata": {},
   "outputs": [
    {
     "data": {
      "text/plain": [
       "True"
      ]
     },
     "execution_count": 54,
     "metadata": {},
     "output_type": "execute_result"
    }
   ],
   "source": [
    "df['Registration State'].duplicated().any()"
   ]
  },
  {
   "cell_type": "code",
   "execution_count": 53,
   "metadata": {},
   "outputs": [
    {
     "data": {
      "text/plain": [
       "4983967"
      ]
     },
     "execution_count": 53,
     "metadata": {},
     "output_type": "execute_result"
    }
   ],
   "source": [
    "len(df[df['Registration State'].duplicated()])"
   ]
  },
  {
   "cell_type": "code",
   "execution_count": 59,
   "metadata": {},
   "outputs": [
    {
     "data": {
      "text/plain": [
       "array(['NY', 'ME', '99', 'PA', 'FL', 'NJ', 'NC', 'TX', 'OH', 'OK', 'SC',\n",
       "       'OR', 'AL', 'ON', 'IL', 'MS', 'VT', 'NH', 'MN', 'IN', 'CT', 'MI',\n",
       "       'TN', 'NB', 'ID', 'MA', 'IA', 'CA', 'RI', 'QB', 'VA', 'WA', 'AR',\n",
       "       'GV', 'MO', 'LA', 'GA', 'DC', 'NV', 'NM', 'AZ', 'UT', 'WI', 'MD',\n",
       "       'KS', 'CO', 'WV', 'BC', 'DE', 'SD', 'NE', 'AK', 'DP', 'NS', 'PR',\n",
       "       'FO', 'ND', 'HI', 'AB', 'MT', 'MB', 'WY', 'KY', 'PE', 'MX', 'SK',\n",
       "       'NT'], dtype=object)"
      ]
     },
     "execution_count": 59,
     "metadata": {},
     "output_type": "execute_result"
    }
   ],
   "source": [
    "df['Registration State'].unique()"
   ]
  },
  {
   "cell_type": "markdown",
   "metadata": {},
   "source": [
    "### Mapping states\n",
    "We need to make sure that all states are valid. We will use the States dataset for that."
   ]
  },
  {
   "cell_type": "code",
   "execution_count": 96,
   "metadata": {},
   "outputs": [],
   "source": [
    "df_state = pd.read_csv('Dataset/ACRIS_-_State_Codes.csv', delimiter=';', usecols=['STATE CODE', 'DESCRIPTION'], index_col='STATE CODE')"
   ]
  },
  {
   "cell_type": "code",
   "execution_count": 97,
   "metadata": {},
   "outputs": [
    {
     "data": {
      "text/html": [
       "<div>\n",
       "<style scoped>\n",
       "    .dataframe tbody tr th:only-of-type {\n",
       "        vertical-align: middle;\n",
       "    }\n",
       "\n",
       "    .dataframe tbody tr th {\n",
       "        vertical-align: top;\n",
       "    }\n",
       "\n",
       "    .dataframe thead th {\n",
       "        text-align: right;\n",
       "    }\n",
       "</style>\n",
       "<table border=\"1\" class=\"dataframe\">\n",
       "  <thead>\n",
       "    <tr style=\"text-align: right;\">\n",
       "      <th></th>\n",
       "      <th>DESCRIPTION</th>\n",
       "    </tr>\n",
       "    <tr>\n",
       "      <th>STATE CODE</th>\n",
       "      <th></th>\n",
       "    </tr>\n",
       "  </thead>\n",
       "  <tbody>\n",
       "    <tr>\n",
       "      <th>AL</th>\n",
       "      <td>ALABAMA</td>\n",
       "    </tr>\n",
       "    <tr>\n",
       "      <th>AK</th>\n",
       "      <td>ALASKA</td>\n",
       "    </tr>\n",
       "    <tr>\n",
       "      <th>AZ</th>\n",
       "      <td>ARIZONA</td>\n",
       "    </tr>\n",
       "    <tr>\n",
       "      <th>AR</th>\n",
       "      <td>ARKANSAS</td>\n",
       "    </tr>\n",
       "    <tr>\n",
       "      <th>CA</th>\n",
       "      <td>CALIFORNIA</td>\n",
       "    </tr>\n",
       "  </tbody>\n",
       "</table>\n",
       "</div>"
      ],
      "text/plain": [
       "           DESCRIPTION\n",
       "STATE CODE            \n",
       "AL             ALABAMA\n",
       "AK              ALASKA\n",
       "AZ             ARIZONA\n",
       "AR            ARKANSAS\n",
       "CA          CALIFORNIA"
      ]
     },
     "execution_count": 97,
     "metadata": {},
     "output_type": "execute_result"
    }
   ],
   "source": [
    "df_state.head()"
   ]
  },
  {
   "cell_type": "code",
   "execution_count": 131,
   "metadata": {},
   "outputs": [],
   "source": [
    "df_with_mapped_states = df.join(df_state, on='Registration State')"
   ]
  },
  {
   "cell_type": "markdown",
   "metadata": {},
   "source": [
    "**Very few unknown states**.  \n",
    "Action: *For known states:* Map to the name of the state. *For unknown states:* **DROP**; because we use the state for the vehicle id."
   ]
  },
  {
   "cell_type": "code",
   "execution_count": 132,
   "metadata": {},
   "outputs": [
    {
     "data": {
      "text/plain": [
       "array(['99', 'ON', 'NB', 'QB', 'GV', 'BC', 'DP', 'NS', 'PR', 'FO', 'AB',\n",
       "       'MB', 'PE', 'MX', 'SK', 'NT'], dtype=object)"
      ]
     },
     "execution_count": 132,
     "metadata": {},
     "output_type": "execute_result"
    }
   ],
   "source": [
    "df_with_mapped_states[df_with_mapped_states['DESCRIPTION'].isna()]['Registration State'].unique()"
   ]
  },
  {
   "cell_type": "markdown",
   "metadata": {},
   "source": [
    "## Plate Type"
   ]
  },
  {
   "cell_type": "markdown",
   "metadata": {},
   "source": [
    "**No missing values**"
   ]
  },
  {
   "cell_type": "code",
   "execution_count": 206,
   "metadata": {},
   "outputs": [
    {
     "data": {
      "text/plain": [
       "False"
      ]
     },
     "execution_count": 206,
     "metadata": {},
     "output_type": "execute_result"
    }
   ],
   "source": [
    "df['Plate Type'].isna().any()"
   ]
  },
  {
   "cell_type": "markdown",
   "metadata": {},
   "source": [
    "**A lot of duplicate values, which is obviously okay.**"
   ]
  },
  {
   "cell_type": "code",
   "execution_count": 207,
   "metadata": {},
   "outputs": [
    {
     "data": {
      "text/plain": [
       "True"
      ]
     },
     "execution_count": 207,
     "metadata": {},
     "output_type": "execute_result"
    }
   ],
   "source": [
    "df['Plate Type'].duplicated().any()"
   ]
  },
  {
   "cell_type": "code",
   "execution_count": 208,
   "metadata": {},
   "outputs": [
    {
     "data": {
      "text/plain": [
       "4983949"
      ]
     },
     "execution_count": 208,
     "metadata": {},
     "output_type": "execute_result"
    }
   ],
   "source": [
    "len(df[df['Plate Type'].duplicated()])"
   ]
  },
  {
   "cell_type": "code",
   "execution_count": 209,
   "metadata": {},
   "outputs": [
    {
     "data": {
      "text/plain": [
       "array(['PAS', 'COM', '999', 'ORG', 'OMT', 'SRF', 'OMS', 'NYS', 'PSD',\n",
       "       'IRP', 'CMB', 'RGL', 'DLR', 'HIS', 'SPO', 'MOT', 'APP', 'VAS',\n",
       "       'OML', 'HAM', 'OMV', 'SRN', 'HIR', 'TOW', 'PHS', 'MCL', 'RGC',\n",
       "       'BOB', 'CSP', 'ITP', 'AMB', 'AGR', 'LTR', 'OMR', 'TRC', 'NLM',\n",
       "       'TRL', 'MED', 'SCL', 'LMB', 'LMC', 'TRA', 'SEM', 'OMO', 'STA',\n",
       "       'NYC', 'BOT', 'OMF', 'SPC', 'LUA', 'AYG', 'ORC', 'NYA', 'ARG',\n",
       "       'GSM', 'STG', 'CCK', 'ATV', 'LMA', 'FPW', 'JCL', 'SOS', 'SUP',\n",
       "       'CHC', 'CMH', 'ORM', 'AGC', 'USS', 'THC', 'CBS', 'CLG', 'JSC',\n",
       "       'HSM', 'VPL', 'CME', 'HOU', 'ATD', 'HAC', 'PPH', 'JWV', 'USC',\n",
       "       'GAC', 'SNO', 'FAR', 'JCA'], dtype=object)"
      ]
     },
     "execution_count": 209,
     "metadata": {},
     "output_type": "execute_result"
    }
   ],
   "source": [
    "df['Plate Type'].unique()"
   ]
  },
  {
   "cell_type": "markdown",
   "metadata": {},
   "source": [
    "### Mapping plate types\n",
    "We need to make sure that all plate types are valid. We will use the Plate Types dataset for that."
   ]
  },
  {
   "cell_type": "code",
   "execution_count": 210,
   "metadata": {},
   "outputs": [],
   "source": [
    "df_plate_types = pd.read_json('Dataset/plate_type.json').set_index('Class Code')"
   ]
  },
  {
   "cell_type": "code",
   "execution_count": 211,
   "metadata": {},
   "outputs": [
    {
     "data": {
      "text/html": [
       "<div>\n",
       "<style scoped>\n",
       "    .dataframe tbody tr th:only-of-type {\n",
       "        vertical-align: middle;\n",
       "    }\n",
       "\n",
       "    .dataframe tbody tr th {\n",
       "        vertical-align: top;\n",
       "    }\n",
       "\n",
       "    .dataframe thead th {\n",
       "        text-align: right;\n",
       "    }\n",
       "</style>\n",
       "<table border=\"1\" class=\"dataframe\">\n",
       "  <thead>\n",
       "    <tr style=\"text-align: right;\">\n",
       "      <th></th>\n",
       "      <th>Class Description</th>\n",
       "    </tr>\n",
       "    <tr>\n",
       "      <th>Class Code</th>\n",
       "      <th></th>\n",
       "    </tr>\n",
       "  </thead>\n",
       "  <tbody>\n",
       "    <tr>\n",
       "      <th>AGC</th>\n",
       "      <td>AGRICULTURE</td>\n",
       "    </tr>\n",
       "    <tr>\n",
       "      <th>AGR</th>\n",
       "      <td>AGRICULTURAL</td>\n",
       "    </tr>\n",
       "    <tr>\n",
       "      <th>AMB</th>\n",
       "      <td>AMBULANCE</td>\n",
       "    </tr>\n",
       "    <tr>\n",
       "      <th>ARG</th>\n",
       "      <td>AIR NATIONAL GUARD</td>\n",
       "    </tr>\n",
       "    <tr>\n",
       "      <th>ATD</th>\n",
       "      <td>ATV DEALER</td>\n",
       "    </tr>\n",
       "  </tbody>\n",
       "</table>\n",
       "</div>"
      ],
      "text/plain": [
       "             Class Description\n",
       "Class Code                    \n",
       "AGC                AGRICULTURE\n",
       "AGR               AGRICULTURAL\n",
       "AMB                  AMBULANCE\n",
       "ARG         AIR NATIONAL GUARD\n",
       "ATD                 ATV DEALER"
      ]
     },
     "execution_count": 211,
     "metadata": {},
     "output_type": "execute_result"
    }
   ],
   "source": [
    "df_plate_types.head()"
   ]
  },
  {
   "cell_type": "code",
   "execution_count": 217,
   "metadata": {},
   "outputs": [],
   "source": [
    "df_with_mapped_plate_types = df.join(df_plate_types, on='Plate Type')"
   ]
  },
  {
   "cell_type": "markdown",
   "metadata": {},
   "source": [
    "**Very few unknown plate types**.  \n",
    "Action: *For known plate types:* Map to the name of the plate type. *For unknown plate types:* **DROP**; because we use it for the vehicle id."
   ]
  },
  {
   "cell_type": "code",
   "execution_count": 218,
   "metadata": {},
   "outputs": [
    {
     "data": {
      "text/plain": [
       "array(['999', 'CMB', 'APP'], dtype=object)"
      ]
     },
     "execution_count": 218,
     "metadata": {},
     "output_type": "execute_result"
    }
   ],
   "source": [
    "df_with_mapped_plate_types[df_with_mapped_plate_types['Class Description'].isna()]['Plate Type'].unique()"
   ]
  },
  {
   "cell_type": "markdown",
   "metadata": {},
   "source": [
    "### Vehicles with multiple Plate Types!  \n",
    "Action: Rely on the last known value."
   ]
  },
  {
   "cell_type": "code",
   "execution_count": 321,
   "metadata": {},
   "outputs": [],
   "source": [
    "df_veh_plate = df_with_mapped_plate_types[['Vehicle ID', 'Class Description']].dropna(subset=['Vehicle ID']).drop_duplicates()"
   ]
  },
  {
   "cell_type": "code",
   "execution_count": 322,
   "metadata": {},
   "outputs": [
    {
     "data": {
      "text/html": [
       "<div>\n",
       "<style scoped>\n",
       "    .dataframe tbody tr th:only-of-type {\n",
       "        vertical-align: middle;\n",
       "    }\n",
       "\n",
       "    .dataframe tbody tr th {\n",
       "        vertical-align: top;\n",
       "    }\n",
       "\n",
       "    .dataframe thead th {\n",
       "        text-align: right;\n",
       "    }\n",
       "</style>\n",
       "<table border=\"1\" class=\"dataframe\">\n",
       "  <thead>\n",
       "    <tr style=\"text-align: right;\">\n",
       "      <th></th>\n",
       "      <th>Vehicle ID</th>\n",
       "      <th>Class Description</th>\n",
       "    </tr>\n",
       "  </thead>\n",
       "  <tbody>\n",
       "    <tr>\n",
       "      <th>1507347</th>\n",
       "      <td>990014MNDSDN</td>\n",
       "      <td>PASSENGER</td>\n",
       "    </tr>\n",
       "    <tr>\n",
       "      <th>1533760</th>\n",
       "      <td>990014MNDSDN</td>\n",
       "      <td>NaN</td>\n",
       "    </tr>\n",
       "    <tr>\n",
       "      <th>1530931</th>\n",
       "      <td>9912226MGVAN</td>\n",
       "      <td>COMMERCIAL</td>\n",
       "    </tr>\n",
       "    <tr>\n",
       "      <th>1512474</th>\n",
       "      <td>9912226MGVAN</td>\n",
       "      <td>PASSENGER</td>\n",
       "    </tr>\n",
       "    <tr>\n",
       "      <th>1537907</th>\n",
       "      <td>9916242TCDELV</td>\n",
       "      <td>TRANSPORTER</td>\n",
       "    </tr>\n",
       "    <tr>\n",
       "      <th>...</th>\n",
       "      <td>...</td>\n",
       "      <td>...</td>\n",
       "    </tr>\n",
       "    <tr>\n",
       "      <th>1087800</th>\n",
       "      <td>NYZHF12994DSD</td>\n",
       "      <td>PASSENGER</td>\n",
       "    </tr>\n",
       "    <tr>\n",
       "      <th>4096683</th>\n",
       "      <td>NYZIPZAP4DSD</td>\n",
       "      <td>SPECIAL REGISTRATION FEE</td>\n",
       "    </tr>\n",
       "    <tr>\n",
       "      <th>4561978</th>\n",
       "      <td>NYZIPZAP4DSD</td>\n",
       "      <td>PASSENGER</td>\n",
       "    </tr>\n",
       "    <tr>\n",
       "      <th>3331195</th>\n",
       "      <td>NYZUZUPTLSSUBN</td>\n",
       "      <td>PASSENGER</td>\n",
       "    </tr>\n",
       "    <tr>\n",
       "      <th>663043</th>\n",
       "      <td>NYZUZUPTLSSUBN</td>\n",
       "      <td>SPECIAL REGISTRATION FEE</td>\n",
       "    </tr>\n",
       "  </tbody>\n",
       "</table>\n",
       "<p>27571 rows × 2 columns</p>\n",
       "</div>"
      ],
      "text/plain": [
       "             Vehicle ID         Class Description\n",
       "1507347    990014MNDSDN                 PASSENGER\n",
       "1533760    990014MNDSDN                       NaN\n",
       "1530931    9912226MGVAN                COMMERCIAL\n",
       "1512474    9912226MGVAN                 PASSENGER\n",
       "1537907   9916242TCDELV               TRANSPORTER\n",
       "...                 ...                       ...\n",
       "1087800   NYZHF12994DSD                 PASSENGER\n",
       "4096683    NYZIPZAP4DSD  SPECIAL REGISTRATION FEE\n",
       "4561978    NYZIPZAP4DSD                 PASSENGER\n",
       "3331195  NYZUZUPTLSSUBN                 PASSENGER\n",
       "663043   NYZUZUPTLSSUBN  SPECIAL REGISTRATION FEE\n",
       "\n",
       "[27571 rows x 2 columns]"
      ]
     },
     "execution_count": 322,
     "metadata": {},
     "output_type": "execute_result"
    }
   ],
   "source": [
    "df_veh_plate[df_veh_plate['Vehicle ID'].duplicated(keep=False)].sort_values(by=['Vehicle ID'])"
   ]
  },
  {
   "cell_type": "markdown",
   "metadata": {},
   "source": [
    "## Issue Date"
   ]
  },
  {
   "cell_type": "markdown",
   "metadata": {},
   "source": [
    "**No missing values**"
   ]
  },
  {
   "cell_type": "code",
   "execution_count": 137,
   "metadata": {},
   "outputs": [
    {
     "data": {
      "text/plain": [
       "False"
      ]
     },
     "execution_count": 137,
     "metadata": {},
     "output_type": "execute_result"
    }
   ],
   "source": [
    "df['Issue Date'].isna().any()"
   ]
  },
  {
   "cell_type": "code",
   "execution_count": 143,
   "metadata": {},
   "outputs": [
    {
     "data": {
      "text/plain": [
       "0    06/28/2019\n",
       "1    06/28/2019\n",
       "2    06/16/2019\n",
       "3    06/24/2019\n",
       "4    07/06/2019\n",
       "Name: Issue Date, dtype: object"
      ]
     },
     "execution_count": 143,
     "metadata": {},
     "output_type": "execute_result"
    }
   ],
   "source": [
    "df['Issue Date'].head()"
   ]
  },
  {
   "cell_type": "markdown",
   "metadata": {},
   "source": [
    "**All the dates are in the same format %m/%d/%Y**"
   ]
  },
  {
   "cell_type": "code",
   "execution_count": 166,
   "metadata": {},
   "outputs": [],
   "source": [
    "issue_date_df = pd.to_datetime(df['Issue Date'], errors='coerce', format='%m/%d/%Y')"
   ]
  },
  {
   "cell_type": "code",
   "execution_count": 167,
   "metadata": {},
   "outputs": [
    {
     "data": {
      "text/plain": [
       "False"
      ]
     },
     "execution_count": 167,
     "metadata": {},
     "output_type": "execute_result"
    }
   ],
   "source": [
    "issue_date_df.isna().any()"
   ]
  },
  {
   "cell_type": "markdown",
   "metadata": {},
   "source": [
    "## Violation Code"
   ]
  },
  {
   "cell_type": "markdown",
   "metadata": {},
   "source": [
    "**No missing values**"
   ]
  },
  {
   "cell_type": "code",
   "execution_count": 170,
   "metadata": {},
   "outputs": [
    {
     "data": {
      "text/plain": [
       "False"
      ]
     },
     "execution_count": 170,
     "metadata": {},
     "output_type": "execute_result"
    }
   ],
   "source": [
    "df['Violation Code'].isna().any()"
   ]
  },
  {
   "cell_type": "code",
   "execution_count": 172,
   "metadata": {},
   "outputs": [
    {
     "data": {
      "text/plain": [
       "array([21, 20, 19, 48, 46, 40, 78, 41, 14, 74, 17, 61, 70, 10, 98, 51, 50,\n",
       "       67, 24, 63, 71, 60, 45, 83, 43, 16, 31, 37, 99, 18, 42, 62, 53, 27,\n",
       "       38, 96, 68, 66, 75, 52, 90, 77,  9, 91, 80, 34, 11,  5,  4, 87, 64,\n",
       "       39, 13, 72, 85, 97, 56, 92,  6, 49, 95, 26, 36, 47, 79, 84, 81, 12,\n",
       "       54, 73,  7, 94, 69, 22,  0, 33,  8, 89,  1, 82, 30, 35, 32, 23, 59,\n",
       "        3, 86, 88, 44, 57, 76, 55, 65,  2, 25, 29, 15, 58, 93])"
      ]
     },
     "execution_count": 172,
     "metadata": {},
     "output_type": "execute_result"
    }
   ],
   "source": [
    "df['Violation Code'].unique()"
   ]
  },
  {
   "cell_type": "markdown",
   "metadata": {},
   "source": [
    "### Mapping violation code\n",
    "We need to make sure that all violation codes are valid. We will use the Violation Code dataset for that."
   ]
  },
  {
   "cell_type": "code",
   "execution_count": 179,
   "metadata": {},
   "outputs": [],
   "source": [
    "df_violation_codes = pd.read_csv('Dataset/ParkingViolationCodes_Nov_2018.csv', index_col='VIOLATION CODE', usecols=['VIOLATION CODE', 'VIOLATION DESCRIPTION'])"
   ]
  },
  {
   "cell_type": "code",
   "execution_count": 180,
   "metadata": {},
   "outputs": [
    {
     "data": {
      "text/html": [
       "<div>\n",
       "<style scoped>\n",
       "    .dataframe tbody tr th:only-of-type {\n",
       "        vertical-align: middle;\n",
       "    }\n",
       "\n",
       "    .dataframe tbody tr th {\n",
       "        vertical-align: top;\n",
       "    }\n",
       "\n",
       "    .dataframe thead th {\n",
       "        text-align: right;\n",
       "    }\n",
       "</style>\n",
       "<table border=\"1\" class=\"dataframe\">\n",
       "  <thead>\n",
       "    <tr style=\"text-align: right;\">\n",
       "      <th></th>\n",
       "      <th>VIOLATION DESCRIPTION</th>\n",
       "    </tr>\n",
       "    <tr>\n",
       "      <th>VIOLATION CODE</th>\n",
       "      <th></th>\n",
       "    </tr>\n",
       "  </thead>\n",
       "  <tbody>\n",
       "    <tr>\n",
       "      <th>1</th>\n",
       "      <td>FAILURE TO DISPLAY BUS PERMIT</td>\n",
       "    </tr>\n",
       "    <tr>\n",
       "      <th>2</th>\n",
       "      <td>NO OPERATOR NAM/ADD/PH DISPLAY</td>\n",
       "    </tr>\n",
       "    <tr>\n",
       "      <th>3</th>\n",
       "      <td>UNAUTHORIZED PASSENGER PICK-UP</td>\n",
       "    </tr>\n",
       "    <tr>\n",
       "      <th>4</th>\n",
       "      <td>BUS PARKING IN LOWER MANHATTAN</td>\n",
       "    </tr>\n",
       "    <tr>\n",
       "      <th>5</th>\n",
       "      <td>BUS LANE VIOLATION</td>\n",
       "    </tr>\n",
       "  </tbody>\n",
       "</table>\n",
       "</div>"
      ],
      "text/plain": [
       "                         VIOLATION DESCRIPTION\n",
       "VIOLATION CODE                                \n",
       "1                FAILURE TO DISPLAY BUS PERMIT\n",
       "2               NO OPERATOR NAM/ADD/PH DISPLAY\n",
       "3               UNAUTHORIZED PASSENGER PICK-UP\n",
       "4               BUS PARKING IN LOWER MANHATTAN\n",
       "5                           BUS LANE VIOLATION"
      ]
     },
     "execution_count": 180,
     "metadata": {},
     "output_type": "execute_result"
    }
   ],
   "source": [
    "df_violation_codes.head()"
   ]
  },
  {
   "cell_type": "code",
   "execution_count": 181,
   "metadata": {},
   "outputs": [],
   "source": [
    "df_with_mapped_violation_codes = df.join(df_violation_codes, on='Violation Code')"
   ]
  },
  {
   "cell_type": "markdown",
   "metadata": {},
   "source": [
    "**Very few unknown violation codes**.  \n",
    "Action: *For known violation codes:* Map to the name of the violation code. *For unknown violation codes:* Map to 99 which is `other`."
   ]
  },
  {
   "cell_type": "code",
   "execution_count": 182,
   "metadata": {},
   "outputs": [
    {
     "data": {
      "text/plain": [
       "array([95, 94,  0])"
      ]
     },
     "execution_count": 182,
     "metadata": {},
     "output_type": "execute_result"
    }
   ],
   "source": [
    "df_with_mapped_violation_codes[df_with_mapped_violation_codes['VIOLATION DESCRIPTION'].isna()]['Violation Code'].unique()"
   ]
  },
  {
   "cell_type": "markdown",
   "metadata": {},
   "source": [
    "## Vehicle Body Type"
   ]
  },
  {
   "cell_type": "markdown",
   "metadata": {},
   "source": [
    "**Few missing values**"
   ]
  },
  {
   "cell_type": "code",
   "execution_count": 185,
   "metadata": {},
   "outputs": [
    {
     "data": {
      "text/plain": [
       "True"
      ]
     },
     "execution_count": 185,
     "metadata": {},
     "output_type": "execute_result"
    }
   ],
   "source": [
    "df['Vehicle Body Type'].isna().any()"
   ]
  },
  {
   "cell_type": "code",
   "execution_count": 186,
   "metadata": {},
   "outputs": [
    {
     "data": {
      "text/plain": [
       "18811"
      ]
     },
     "execution_count": 186,
     "metadata": {},
     "output_type": "execute_result"
    }
   ],
   "source": [
    "len(df[df['Vehicle Body Type'].isna()])"
   ]
  },
  {
   "cell_type": "code",
   "execution_count": 187,
   "metadata": {},
   "outputs": [
    {
     "data": {
      "text/plain": [
       "array(['SDN', 'SUBN', nan, ..., 'SNOW', 'BUS.', '4HT'], dtype=object)"
      ]
     },
     "execution_count": 187,
     "metadata": {},
     "output_type": "execute_result"
    }
   ],
   "source": [
    "df['Vehicle Body Type'].unique()"
   ]
  },
  {
   "cell_type": "markdown",
   "metadata": {},
   "source": [
    "### Mapping vehicle body type\n",
    "We need to make sure that all body type are valid. We will use the Vehicle Body Type dataset for that."
   ]
  },
  {
   "cell_type": "code",
   "execution_count": 189,
   "metadata": {},
   "outputs": [],
   "source": [
    "df_vehicle_body_type = pd.read_json('Dataset/vehicle_body_type.json').set_index('Body Code')"
   ]
  },
  {
   "cell_type": "code",
   "execution_count": 190,
   "metadata": {},
   "outputs": [
    {
     "data": {
      "text/html": [
       "<div>\n",
       "<style scoped>\n",
       "    .dataframe tbody tr th:only-of-type {\n",
       "        vertical-align: middle;\n",
       "    }\n",
       "\n",
       "    .dataframe tbody tr th {\n",
       "        vertical-align: top;\n",
       "    }\n",
       "\n",
       "    .dataframe thead th {\n",
       "        text-align: right;\n",
       "    }\n",
       "</style>\n",
       "<table border=\"1\" class=\"dataframe\">\n",
       "  <thead>\n",
       "    <tr style=\"text-align: right;\">\n",
       "      <th></th>\n",
       "      <th>Body Style Description</th>\n",
       "    </tr>\n",
       "    <tr>\n",
       "      <th>Body Code</th>\n",
       "      <th></th>\n",
       "    </tr>\n",
       "  </thead>\n",
       "  <tbody>\n",
       "    <tr>\n",
       "      <th>FIRE</th>\n",
       "      <td>FIRE TRUCK</td>\n",
       "    </tr>\n",
       "    <tr>\n",
       "      <th>CONV</th>\n",
       "      <td>CONVERTIBLE</td>\n",
       "    </tr>\n",
       "    <tr>\n",
       "      <th>SEDN</th>\n",
       "      <td>SEDAN</td>\n",
       "    </tr>\n",
       "    <tr>\n",
       "      <th>SUBN</th>\n",
       "      <td>SUBURBAN</td>\n",
       "    </tr>\n",
       "    <tr>\n",
       "      <th>4DSD</th>\n",
       "      <td>FOUR-DOOR SEDAN</td>\n",
       "    </tr>\n",
       "  </tbody>\n",
       "</table>\n",
       "</div>"
      ],
      "text/plain": [
       "          Body Style Description\n",
       "Body Code                       \n",
       "FIRE                  FIRE TRUCK\n",
       "CONV                 CONVERTIBLE\n",
       "SEDN                       SEDAN\n",
       "SUBN                    SUBURBAN\n",
       "4DSD             FOUR-DOOR SEDAN"
      ]
     },
     "execution_count": 190,
     "metadata": {},
     "output_type": "execute_result"
    }
   ],
   "source": [
    "df_vehicle_body_type.head()"
   ]
  },
  {
   "cell_type": "code",
   "execution_count": 192,
   "metadata": {},
   "outputs": [],
   "source": [
    "df_with_mapped_df_vehicle_body_types = df.join(df_vehicle_body_type, on='Vehicle Body Type')"
   ]
  },
  {
   "cell_type": "markdown",
   "metadata": {},
   "source": [
    "**A lot of unknown vehicle body types**.  \n",
    "Action: *For known vehicle body types:* Map to the name of the body type. *For unknown vehicle body types:* Map to 'Unknown'. Also, one good step is to try to find the latest non-null vehicle body type for the same vehicle."
   ]
  },
  {
   "cell_type": "code",
   "execution_count": 194,
   "metadata": {},
   "outputs": [
    {
     "data": {
      "text/plain": [
       "969"
      ]
     },
     "execution_count": 194,
     "metadata": {},
     "output_type": "execute_result"
    }
   ],
   "source": [
    "len(df_with_mapped_df_vehicle_body_types[df_with_mapped_df_vehicle_body_types['Body Style Description'].isna()]['Vehicle Body Type'].unique())"
   ]
  },
  {
   "cell_type": "markdown",
   "metadata": {},
   "source": [
    "## Vehicle Make"
   ]
  },
  {
   "cell_type": "markdown",
   "metadata": {},
   "source": [
    "**Few missing values**.  \n",
    "Action: Always try to find the latest non-null value for the same vehicle."
   ]
  },
  {
   "cell_type": "code",
   "execution_count": 195,
   "metadata": {},
   "outputs": [
    {
     "data": {
      "text/plain": [
       "True"
      ]
     },
     "execution_count": 195,
     "metadata": {},
     "output_type": "execute_result"
    }
   ],
   "source": [
    "df['Vehicle Make'].isna().any()"
   ]
  },
  {
   "cell_type": "code",
   "execution_count": 196,
   "metadata": {},
   "outputs": [
    {
     "data": {
      "text/plain": [
       "26928"
      ]
     },
     "execution_count": 196,
     "metadata": {},
     "output_type": "execute_result"
    }
   ],
   "source": [
    "len(df[df['Vehicle Make'].isna()])"
   ]
  },
  {
   "cell_type": "code",
   "execution_count": 197,
   "metadata": {},
   "outputs": [
    {
     "data": {
      "text/plain": [
       "array(['BMW', 'TOYOT', 'AUDI', ..., 'LNDRO', 'YOUNG', 'AU/CA'],\n",
       "      dtype=object)"
      ]
     },
     "execution_count": 197,
     "metadata": {},
     "output_type": "execute_result"
    }
   ],
   "source": [
    "df['Vehicle Make'].unique()"
   ]
  },
  {
   "cell_type": "markdown",
   "metadata": {},
   "source": [
    "## Issuing Agency"
   ]
  },
  {
   "cell_type": "markdown",
   "metadata": {},
   "source": [
    "**No missing values**"
   ]
  },
  {
   "cell_type": "code",
   "execution_count": 198,
   "metadata": {},
   "outputs": [
    {
     "data": {
      "text/plain": [
       "False"
      ]
     },
     "execution_count": 198,
     "metadata": {},
     "output_type": "execute_result"
    }
   ],
   "source": [
    "df['Issuing Agency'].isna().any()"
   ]
  },
  {
   "cell_type": "code",
   "execution_count": 199,
   "metadata": {},
   "outputs": [
    {
     "data": {
      "text/plain": [
       "array(['P', 'X', 'D', 'F', 'H', 'C', 'T', 'K', 'O', 'S', 'V', 'E', 'B',\n",
       "       'Z', 'A', '1', 'M'], dtype=object)"
      ]
     },
     "execution_count": 199,
     "metadata": {},
     "output_type": "execute_result"
    }
   ],
   "source": [
    "df['Issuing Agency'].unique()"
   ]
  },
  {
   "cell_type": "markdown",
   "metadata": {},
   "source": [
    "### Mapping issuing agencies\n",
    "We need to make sure that all issuing agencies are valid. We will use the Issuing Agency dataset for that."
   ]
  },
  {
   "cell_type": "code",
   "execution_count": 201,
   "metadata": {},
   "outputs": [],
   "source": [
    "df_issuing_agency = pd.read_json('Dataset/issuing_agencies.json').set_index('Code')"
   ]
  },
  {
   "cell_type": "code",
   "execution_count": 202,
   "metadata": {},
   "outputs": [
    {
     "data": {
      "text/html": [
       "<div>\n",
       "<style scoped>\n",
       "    .dataframe tbody tr th:only-of-type {\n",
       "        vertical-align: middle;\n",
       "    }\n",
       "\n",
       "    .dataframe tbody tr th {\n",
       "        vertical-align: top;\n",
       "    }\n",
       "\n",
       "    .dataframe thead th {\n",
       "        text-align: right;\n",
       "    }\n",
       "</style>\n",
       "<table border=\"1\" class=\"dataframe\">\n",
       "  <thead>\n",
       "    <tr style=\"text-align: right;\">\n",
       "      <th></th>\n",
       "      <th>Agency</th>\n",
       "    </tr>\n",
       "    <tr>\n",
       "      <th>Code</th>\n",
       "      <th></th>\n",
       "    </tr>\n",
       "  </thead>\n",
       "  <tbody>\n",
       "    <tr>\n",
       "      <th>A</th>\n",
       "      <td>PORT AUTHORITY</td>\n",
       "    </tr>\n",
       "    <tr>\n",
       "      <th>B</th>\n",
       "      <td>TRIBOROUGH BRIDGE AND TUNNEL POLICE</td>\n",
       "    </tr>\n",
       "    <tr>\n",
       "      <th>C</th>\n",
       "      <td>CON RAIL</td>\n",
       "    </tr>\n",
       "    <tr>\n",
       "      <th>D</th>\n",
       "      <td>DEPARTMENT OF BUSINESS SERVICES</td>\n",
       "    </tr>\n",
       "    <tr>\n",
       "      <th>E</th>\n",
       "      <td>BOARD OF ESTIMATE</td>\n",
       "    </tr>\n",
       "  </tbody>\n",
       "</table>\n",
       "</div>"
      ],
      "text/plain": [
       "                                   Agency\n",
       "Code                                     \n",
       "A                          PORT AUTHORITY\n",
       "B     TRIBOROUGH BRIDGE AND TUNNEL POLICE\n",
       "C                                CON RAIL\n",
       "D         DEPARTMENT OF BUSINESS SERVICES\n",
       "E                       BOARD OF ESTIMATE"
      ]
     },
     "execution_count": 202,
     "metadata": {},
     "output_type": "execute_result"
    }
   ],
   "source": [
    "df_issuing_agency.head()"
   ]
  },
  {
   "cell_type": "code",
   "execution_count": 203,
   "metadata": {},
   "outputs": [],
   "source": [
    "df_with_mapped_df_issuing_agency = df.join(df_issuing_agency, on='Issuing Agency')"
   ]
  },
  {
   "cell_type": "markdown",
   "metadata": {},
   "source": [
    "**No unknown issuing Agency**.  "
   ]
  },
  {
   "cell_type": "code",
   "execution_count": 205,
   "metadata": {},
   "outputs": [
    {
     "data": {
      "text/plain": [
       "array([], dtype=object)"
      ]
     },
     "execution_count": 205,
     "metadata": {},
     "output_type": "execute_result"
    }
   ],
   "source": [
    "df_with_mapped_df_issuing_agency[df_with_mapped_df_issuing_agency['Agency'].isna()]['Issuing Agency'].unique()"
   ]
  },
  {
   "cell_type": "code",
   "execution_count": 631,
   "metadata": {},
   "outputs": [
    {
     "data": {
      "text/plain": [
       "<matplotlib.axes._subplots.AxesSubplot at 0x181479290>"
      ]
     },
     "execution_count": 631,
     "metadata": {},
     "output_type": "execute_result"
    },
    {
     "data": {
      "image/png": "[encoded data removed]",
      "text/plain": [
       "<Figure size 432x288 with 1 Axes>"
      ]
     },
     "metadata": {
      "needs_background": "light"
     },
     "output_type": "display_data"
    }
   ],
   "source": [
    "pd.value_counts(df_with_mapped_df_issuing_agency['Agency']).plot.bar()"
   ]
  },
  {
   "cell_type": "markdown",
   "metadata": {},
   "source": [
    "## Street Code1"
   ]
  },
  {
   "cell_type": "markdown",
   "metadata": {},
   "source": [
    "**No missing values**"
   ]
  },
  {
   "cell_type": "code",
   "execution_count": 323,
   "metadata": {},
   "outputs": [
    {
     "data": {
      "text/plain": [
       "False"
      ]
     },
     "execution_count": 323,
     "metadata": {},
     "output_type": "execute_result"
    }
   ],
   "source": [
    "df['Street Code1'].isna().any()"
   ]
  },
  {
   "cell_type": "code",
   "execution_count": 325,
   "metadata": {},
   "outputs": [
    {
     "data": {
      "text/plain": [
       "array([27390, 36290, 36270, ..., 65365, 37745, 47260])"
      ]
     },
     "execution_count": 325,
     "metadata": {},
     "output_type": "execute_result"
    }
   ],
   "source": [
    "df['Street Code1'].unique()"
   ]
  },
  {
   "cell_type": "markdown",
   "metadata": {},
   "source": [
    "## Street Code2"
   ]
  },
  {
   "cell_type": "markdown",
   "metadata": {},
   "source": [
    "**No missing values**"
   ]
  },
  {
   "cell_type": "code",
   "execution_count": 326,
   "metadata": {},
   "outputs": [
    {
     "data": {
      "text/plain": [
       "False"
      ]
     },
     "execution_count": 326,
     "metadata": {},
     "output_type": "execute_result"
    }
   ],
   "source": [
    "df['Street Code2'].isna().any()"
   ]
  },
  {
   "cell_type": "code",
   "execution_count": 327,
   "metadata": {},
   "outputs": [
    {
     "data": {
      "text/plain": [
       "array([36290, 27390, 11710, ..., 27830, 11920, 15670])"
      ]
     },
     "execution_count": 327,
     "metadata": {},
     "output_type": "execute_result"
    }
   ],
   "source": [
    "df['Street Code2'].unique()"
   ]
  },
  {
   "cell_type": "markdown",
   "metadata": {},
   "source": [
    "## Street Code3"
   ]
  },
  {
   "cell_type": "markdown",
   "metadata": {},
   "source": [
    "**No missing values**"
   ]
  },
  {
   "cell_type": "code",
   "execution_count": 328,
   "metadata": {},
   "outputs": [
    {
     "data": {
      "text/plain": [
       "False"
      ]
     },
     "execution_count": 328,
     "metadata": {},
     "output_type": "execute_result"
    }
   ],
   "source": [
    "df['Street Code3'].isna().any()"
   ]
  },
  {
   "cell_type": "code",
   "execution_count": 329,
   "metadata": {},
   "outputs": [
    {
     "data": {
      "text/plain": [
       "array([36350, 13113, 27390, ..., 12570, 27102, 36800])"
      ]
     },
     "execution_count": 329,
     "metadata": {},
     "output_type": "execute_result"
    }
   ],
   "source": [
    "df['Street Code3'].unique()"
   ]
  },
  {
   "cell_type": "markdown",
   "metadata": {},
   "source": [
    "## Vehicle Expiration Date"
   ]
  },
  {
   "cell_type": "markdown",
   "metadata": {},
   "source": [
    "**No missing values**"
   ]
  },
  {
   "cell_type": "code",
   "execution_count": 340,
   "metadata": {},
   "outputs": [
    {
     "data": {
      "text/plain": [
       "False"
      ]
     },
     "execution_count": 340,
     "metadata": {},
     "output_type": "execute_result"
    }
   ],
   "source": [
    "df['Vehicle Expiration Date'].isna().any()"
   ]
  },
  {
   "cell_type": "code",
   "execution_count": 341,
   "metadata": {},
   "outputs": [
    {
     "data": {
      "text/plain": [
       "0    20210306\n",
       "1    20210109\n",
       "2    20190720\n",
       "3    20210408\n",
       "4    20210109\n",
       "Name: Vehicle Expiration Date, dtype: int64"
      ]
     },
     "execution_count": 341,
     "metadata": {},
     "output_type": "execute_result"
    }
   ],
   "source": [
    "df['Vehicle Expiration Date'].head()"
   ]
  },
  {
   "cell_type": "markdown",
   "metadata": {},
   "source": [
    "**All the dates are in the same format %Y%m%d.**"
   ]
  },
  {
   "cell_type": "code",
   "execution_count": 365,
   "metadata": {},
   "outputs": [],
   "source": [
    "vehicle_expiration_date_df = pd.to_datetime(df['Vehicle Expiration Date'], errors='coerce', format='%Y%m%d')"
   ]
  },
  {
   "cell_type": "code",
   "execution_count": 364,
   "metadata": {},
   "outputs": [
    {
     "data": {
      "text/plain": [
       "2418799"
      ]
     },
     "execution_count": 364,
     "metadata": {},
     "output_type": "execute_result"
    }
   ],
   "source": [
    "vehicle_expiration_date_df.count()"
   ]
  },
  {
   "cell_type": "markdown",
   "metadata": {},
   "source": [
    "**However, there are some bad formatted values.**  \n",
    "Action: Rely on the latest known value."
   ]
  },
  {
   "cell_type": "code",
   "execution_count": 372,
   "metadata": {},
   "outputs": [
    {
     "data": {
      "text/plain": [
       "9                 0\n",
       "14                0\n",
       "17                0\n",
       "21                0\n",
       "36                0\n",
       "             ...   \n",
       "4984025    88880088\n",
       "4984026    88880088\n",
       "4984029    88880088\n",
       "4984030    20190088\n",
       "4984032    20190088\n",
       "Name: Vehicle Expiration Date, Length: 2565235, dtype: int64"
      ]
     },
     "execution_count": 372,
     "metadata": {},
     "output_type": "execute_result"
    }
   ],
   "source": [
    "df['Vehicle Expiration Date'][vehicle_expiration_date_df.isna()]"
   ]
  },
  {
   "cell_type": "markdown",
   "metadata": {},
   "source": [
    "## Violation Location"
   ]
  },
  {
   "cell_type": "markdown",
   "metadata": {},
   "source": [
    "**A lot of missing values**  \n",
    "Action: **DROP THIS FEATURE; because it is exactly the same as Violation Precinct. See Violation Precinct**"
   ]
  },
  {
   "cell_type": "code",
   "execution_count": 373,
   "metadata": {},
   "outputs": [
    {
     "data": {
      "text/plain": [
       "True"
      ]
     },
     "execution_count": 373,
     "metadata": {},
     "output_type": "execute_result"
    }
   ],
   "source": [
    "df['Violation Location'].isna().any()"
   ]
  },
  {
   "cell_type": "code",
   "execution_count": 375,
   "metadata": {},
   "outputs": [
    {
     "data": {
      "text/plain": [
       "1474186"
      ]
     },
     "execution_count": 375,
     "metadata": {},
     "output_type": "execute_result"
    }
   ],
   "source": [
    "len(df[df['Violation Location'].isna()])"
   ]
  },
  {
   "cell_type": "markdown",
   "metadata": {},
   "source": [
    "## Violation Precinct"
   ]
  },
  {
   "cell_type": "markdown",
   "metadata": {},
   "source": [
    "**A lot of missing values (represented as 0). There are exactly the same number of missing values as Violation Location. In fact, these two features are exactly the same as demonstrated below.**  \n",
    "Action: Fill missing values with the value of `Issuer Precinct` -if it exists-; since `Issuer Precinct` and `Violation Precinct` are almost the same (see `Issuer Precinct` down below)."
   ]
  },
  {
   "cell_type": "code",
   "execution_count": 426,
   "metadata": {},
   "outputs": [
    {
     "data": {
      "text/plain": [
       "False"
      ]
     },
     "execution_count": 426,
     "metadata": {},
     "output_type": "execute_result"
    }
   ],
   "source": [
    "df['Violation Precinct'].isna().any()"
   ]
  },
  {
   "cell_type": "code",
   "execution_count": 427,
   "metadata": {},
   "outputs": [
    {
     "data": {
      "text/plain": [
       "1474186"
      ]
     },
     "execution_count": 427,
     "metadata": {},
     "output_type": "execute_result"
    }
   ],
   "source": [
    "len(df[df['Violation Precinct'] == 0])"
   ]
  },
  {
   "cell_type": "markdown",
   "metadata": {},
   "source": [
    "**Violation Precinct and Violation Location are exactly the same**"
   ]
  },
  {
   "cell_type": "markdown",
   "metadata": {},
   "source": [
    "Number of Violation Location"
   ]
  },
  {
   "cell_type": "code",
   "execution_count": 383,
   "metadata": {
    "scrolled": false
   },
   "outputs": [
    {
     "data": {
      "text/plain": [
       "3509848"
      ]
     },
     "execution_count": 383,
     "metadata": {},
     "output_type": "execute_result"
    }
   ],
   "source": [
    "len(df[df['Violation Location'].notna()])"
   ]
  },
  {
   "cell_type": "markdown",
   "metadata": {},
   "source": [
    "Number of Violation Location which are the same as Violation Precinct"
   ]
  },
  {
   "cell_type": "code",
   "execution_count": 385,
   "metadata": {},
   "outputs": [
    {
     "name": "stderr",
     "output_type": "stream",
     "text": [
      "/usr/local/lib/python3.7/site-packages/ipykernel_launcher.py:1: UserWarning: Boolean Series key will be reindexed to match DataFrame index.\n",
      "  \"\"\"Entry point for launching an IPython kernel.\n"
     ]
    },
    {
     "data": {
      "text/plain": [
       "3509848"
      ]
     },
     "execution_count": 385,
     "metadata": {},
     "output_type": "execute_result"
    }
   ],
   "source": [
    "len(df[df['Violation Location'].notna()][df['Violation Precinct'] == df['Violation Location']])"
   ]
  },
  {
   "cell_type": "code",
   "execution_count": 388,
   "metadata": {},
   "outputs": [
    {
     "data": {
      "text/plain": [
       "array([ 26,  28,  32,   5, 120,   1,  78,  60,  72,  71,  70,  69,  68,\n",
       "        67,  63,  46,   0,  40,  45,  49,  42,  50,  47,  48,  44,  13,\n",
       "        18,   9,   7,  17,  94,  77, 122, 123, 121, 110, 112, 104, 109,\n",
       "       111,  41, 114, 107,  79,  81, 801,  73,  75, 100,  19,  90,  88,\n",
       "       113, 106,   6,  10,  61,  20, 115,  84,  33, 808, 108,  23,  43,\n",
       "        30,  52, 105,  76,  83,   2, 103, 117,  14, 101, 102,  66,  62,\n",
       "        95,  25,  24, 163,  34,  16, 806,   3,  87,  74,   4,  57,  36,\n",
       "        80, 804,  91, 116,  65,  31,  29,  39,  53,  51, 118, 119,  56,\n",
       "        82,  27,  98, 401, 407,  21,  22,  12,  15,  38, 150,   8,  54,\n",
       "       705,  11,  97,  89,  85,  86, 901, 125, 126, 127,  59, 747,  64,\n",
       "        99,  93, 409, 617, 425, 214, 803, 802, 400,  96, 210, 132, 136,\n",
       "        92,  37, 701, 128, 200, 831,  58, 671, 170, 946, 173, 172, 143,\n",
       "        35, 129, 180, 614, 807, 161, 819, 302, 160, 670, 144, 221, 404,\n",
       "       560, 402])"
      ]
     },
     "execution_count": 388,
     "metadata": {},
     "output_type": "execute_result"
    }
   ],
   "source": [
    "df['Violation Precinct'].unique()"
   ]
  },
  {
   "cell_type": "markdown",
   "metadata": {},
   "source": [
    "### Violations in the same streets may have different precinct."
   ]
  },
  {
   "cell_type": "code",
   "execution_count": 421,
   "metadata": {},
   "outputs": [],
   "source": [
    "all_streets = df['Street Code1'].append(df['Street Code2']).append(df['Street Code3']).unique()\n",
    "s_all_streets = pd.Series(all_streets)"
   ]
  },
  {
   "cell_type": "code",
   "execution_count": 422,
   "metadata": {},
   "outputs": [
    {
     "data": {
      "text/html": [
       "<div>\n",
       "<style scoped>\n",
       "    .dataframe tbody tr th:only-of-type {\n",
       "        vertical-align: middle;\n",
       "    }\n",
       "\n",
       "    .dataframe tbody tr th {\n",
       "        vertical-align: top;\n",
       "    }\n",
       "\n",
       "    .dataframe thead th {\n",
       "        text-align: right;\n",
       "    }\n",
       "</style>\n",
       "<table border=\"1\" class=\"dataframe\">\n",
       "  <thead>\n",
       "    <tr style=\"text-align: right;\">\n",
       "      <th></th>\n",
       "      <th>Street Code1</th>\n",
       "      <th>Street Code2</th>\n",
       "      <th>Street Code3</th>\n",
       "      <th>Violation Precinct</th>\n",
       "      <th>House Number</th>\n",
       "    </tr>\n",
       "  </thead>\n",
       "  <tbody>\n",
       "    <tr>\n",
       "      <th>883306</th>\n",
       "      <td>98260</td>\n",
       "      <td>97940</td>\n",
       "      <td>8630</td>\n",
       "      <td>44</td>\n",
       "      <td>1460</td>\n",
       "    </tr>\n",
       "    <tr>\n",
       "      <th>4839458</th>\n",
       "      <td>98260</td>\n",
       "      <td>97940</td>\n",
       "      <td>8630</td>\n",
       "      <td>46</td>\n",
       "      <td>1530</td>\n",
       "    </tr>\n",
       "    <tr>\n",
       "      <th>3243035</th>\n",
       "      <td>97950</td>\n",
       "      <td>20490</td>\n",
       "      <td>12560</td>\n",
       "      <td>26</td>\n",
       "      <td>454</td>\n",
       "    </tr>\n",
       "    <tr>\n",
       "      <th>4803325</th>\n",
       "      <td>97950</td>\n",
       "      <td>20490</td>\n",
       "      <td>12560</td>\n",
       "      <td>26</td>\n",
       "      <td>272</td>\n",
       "    </tr>\n",
       "    <tr>\n",
       "      <th>791249</th>\n",
       "      <td>97890</td>\n",
       "      <td>30497</td>\n",
       "      <td>98270</td>\n",
       "      <td>17</td>\n",
       "      <td>488</td>\n",
       "    </tr>\n",
       "    <tr>\n",
       "      <th>...</th>\n",
       "      <td>...</td>\n",
       "      <td>...</td>\n",
       "      <td>...</td>\n",
       "      <td>...</td>\n",
       "      <td>...</td>\n",
       "    </tr>\n",
       "    <tr>\n",
       "      <th>252756</th>\n",
       "      <td>96131</td>\n",
       "      <td>14580</td>\n",
       "      <td>14630</td>\n",
       "      <td>63</td>\n",
       "      <td>2033</td>\n",
       "    </tr>\n",
       "    <tr>\n",
       "      <th>831087</th>\n",
       "      <td>96131</td>\n",
       "      <td>14580</td>\n",
       "      <td>14630</td>\n",
       "      <td>63</td>\n",
       "      <td>2075</td>\n",
       "    </tr>\n",
       "    <tr>\n",
       "      <th>1322998</th>\n",
       "      <td>96131</td>\n",
       "      <td>14580</td>\n",
       "      <td>14630</td>\n",
       "      <td>63</td>\n",
       "      <td>2069</td>\n",
       "    </tr>\n",
       "    <tr>\n",
       "      <th>1322999</th>\n",
       "      <td>96131</td>\n",
       "      <td>14580</td>\n",
       "      <td>14630</td>\n",
       "      <td>63</td>\n",
       "      <td>2067</td>\n",
       "    </tr>\n",
       "    <tr>\n",
       "      <th>1524084</th>\n",
       "      <td>96131</td>\n",
       "      <td>14580</td>\n",
       "      <td>14630</td>\n",
       "      <td>63</td>\n",
       "      <td>2003</td>\n",
       "    </tr>\n",
       "  </tbody>\n",
       "</table>\n",
       "<p>80 rows × 5 columns</p>\n",
       "</div>"
      ],
      "text/plain": [
       "         Street Code1  Street Code2  Street Code3  Violation Precinct  \\\n",
       "883306          98260         97940          8630                  44   \n",
       "4839458         98260         97940          8630                  46   \n",
       "3243035         97950         20490         12560                  26   \n",
       "4803325         97950         20490         12560                  26   \n",
       "791249          97890         30497         98270                  17   \n",
       "...               ...           ...           ...                 ...   \n",
       "252756          96131         14580         14630                  63   \n",
       "831087          96131         14580         14630                  63   \n",
       "1322998         96131         14580         14630                  63   \n",
       "1322999         96131         14580         14630                  63   \n",
       "1524084         96131         14580         14630                  63   \n",
       "\n",
       "        House Number  \n",
       "883306          1460  \n",
       "4839458         1530  \n",
       "3243035          454  \n",
       "4803325          272  \n",
       "791249           488  \n",
       "...              ...  \n",
       "252756          2033  \n",
       "831087          2075  \n",
       "1322998         2069  \n",
       "1322999         2067  \n",
       "1524084         2003  \n",
       "\n",
       "[80 rows x 5 columns]"
      ]
     },
     "execution_count": 422,
     "metadata": {},
     "output_type": "execute_result"
    }
   ],
   "source": [
    "df_location = df[['Street Code1', 'Street Code2', 'Street Code3', 'Violation Precinct', 'House Number']].drop_duplicates()\n",
    "df_location_with_same_streets = df_location[df_location.duplicated(subset=['Street Code1', 'Street Code2', 'Street Code3'], keep=False)].sort_values(['Street Code1', 'Street Code2', 'Street Code3'], ascending=False)\n",
    "df_location_with_same_streets.head(80)"
   ]
  },
  {
   "cell_type": "markdown",
   "metadata": {},
   "source": [
    "## Issuer Precinct"
   ]
  },
  {
   "cell_type": "markdown",
   "metadata": {},
   "source": [
    "**A lot of missing values (represented as 0).**  \n",
    "Action: Fill missing values with the value of `Violation Precinct` -if it exists-; since `Issuer Precinct` and `Violation Precinct` are almost the same as demonstrated below."
   ]
  },
  {
   "cell_type": "code",
   "execution_count": 428,
   "metadata": {},
   "outputs": [
    {
     "data": {
      "text/plain": [
       "False"
      ]
     },
     "execution_count": 428,
     "metadata": {},
     "output_type": "execute_result"
    }
   ],
   "source": [
    "df['Issuer Precinct'].isna().any()"
   ]
  },
  {
   "cell_type": "code",
   "execution_count": 429,
   "metadata": {},
   "outputs": [
    {
     "data": {
      "text/plain": [
       "1590777"
      ]
     },
     "execution_count": 429,
     "metadata": {},
     "output_type": "execute_result"
    }
   ],
   "source": [
    "len(df[df['Issuer Precinct'] == 0])"
   ]
  },
  {
   "cell_type": "markdown",
   "metadata": {},
   "source": [
    "`Issuer Precinct` and `Violation Precinct` are mostly the same."
   ]
  },
  {
   "cell_type": "code",
   "execution_count": 431,
   "metadata": {},
   "outputs": [
    {
     "data": {
      "text/plain": [
       "4713371"
      ]
     },
     "execution_count": 431,
     "metadata": {},
     "output_type": "execute_result"
    }
   ],
   "source": [
    "len(df[df['Violation Precinct'] == df['Issuer Precinct']])"
   ]
  },
  {
   "cell_type": "markdown",
   "metadata": {},
   "source": [
    "## Issuer Code"
   ]
  },
  {
   "cell_type": "markdown",
   "metadata": {},
   "source": [
    "**A lot of missing values (represented as 0).**  \n",
    "Action: Delete this feature since it is not really useful. It represents the code of the issuer (e.g. police officer). We have Issuing Agency which is much more general and useful."
   ]
  },
  {
   "cell_type": "code",
   "execution_count": 434,
   "metadata": {},
   "outputs": [
    {
     "data": {
      "text/plain": [
       "False"
      ]
     },
     "execution_count": 434,
     "metadata": {},
     "output_type": "execute_result"
    }
   ],
   "source": [
    "df['Issuer Code'].isna().any()"
   ]
  },
  {
   "cell_type": "code",
   "execution_count": 435,
   "metadata": {},
   "outputs": [
    {
     "data": {
      "text/plain": [
       "1439821"
      ]
     },
     "execution_count": 435,
     "metadata": {},
     "output_type": "execute_result"
    }
   ],
   "source": [
    "len(df[df['Issuer Code'] == 0])"
   ]
  },
  {
   "cell_type": "markdown",
   "metadata": {},
   "source": [
    "## Issuer Command"
   ]
  },
  {
   "cell_type": "markdown",
   "metadata": {},
   "source": [
    "**A lot of missing values.**  \n",
    "Action: Delete this feature since it is related to the issuer which we already decided to deleted (see Issuer Code)."
   ]
  },
  {
   "cell_type": "code",
   "execution_count": 438,
   "metadata": {},
   "outputs": [
    {
     "data": {
      "text/plain": [
       "True"
      ]
     },
     "execution_count": 438,
     "metadata": {},
     "output_type": "execute_result"
    }
   ],
   "source": [
    "df['Issuer Command'].isna().any()"
   ]
  },
  {
   "cell_type": "code",
   "execution_count": 437,
   "metadata": {},
   "outputs": [
    {
     "data": {
      "text/plain": [
       "1436650"
      ]
     },
     "execution_count": 437,
     "metadata": {},
     "output_type": "execute_result"
    }
   ],
   "source": [
    "len(df[df['Issuer Command'].isna()])"
   ]
  },
  {
   "cell_type": "markdown",
   "metadata": {},
   "source": [
    "## Issuer Squad"
   ]
  },
  {
   "cell_type": "markdown",
   "metadata": {},
   "source": [
    "**A lot of missing values.**  \n",
    "Action: Delete this feature since it is related to the issuer which we already decided to deleted (see Issuer Code)."
   ]
  },
  {
   "cell_type": "code",
   "execution_count": 439,
   "metadata": {},
   "outputs": [
    {
     "data": {
      "text/plain": [
       "True"
      ]
     },
     "execution_count": 439,
     "metadata": {},
     "output_type": "execute_result"
    }
   ],
   "source": [
    "df['Issuer Squad'].isna().any()"
   ]
  },
  {
   "cell_type": "code",
   "execution_count": 440,
   "metadata": {},
   "outputs": [
    {
     "data": {
      "text/plain": [
       "1436888"
      ]
     },
     "execution_count": 440,
     "metadata": {},
     "output_type": "execute_result"
    }
   ],
   "source": [
    "len(df[df['Issuer Squad'].isna()])"
   ]
  },
  {
   "cell_type": "markdown",
   "metadata": {},
   "source": [
    "## Violation Time"
   ]
  },
  {
   "cell_type": "markdown",
   "metadata": {},
   "source": [
    "**Very few missing values**"
   ]
  },
  {
   "cell_type": "code",
   "execution_count": 443,
   "metadata": {},
   "outputs": [
    {
     "data": {
      "text/plain": [
       "True"
      ]
     },
     "execution_count": 443,
     "metadata": {},
     "output_type": "execute_result"
    }
   ],
   "source": [
    "df['Violation Time'].isna().any()"
   ]
  },
  {
   "cell_type": "code",
   "execution_count": 444,
   "metadata": {},
   "outputs": [
    {
     "data": {
      "text/plain": [
       "124"
      ]
     },
     "execution_count": 444,
     "metadata": {},
     "output_type": "execute_result"
    }
   ],
   "source": [
    "len(df[df['Violation Time'].isna()])"
   ]
  },
  {
   "cell_type": "code",
   "execution_count": 445,
   "metadata": {},
   "outputs": [
    {
     "data": {
      "text/plain": [
       "0    1000A\n",
       "1    1011A\n",
       "2    0107A\n",
       "3    0300A\n",
       "4    0653A\n",
       "Name: Violation Time, dtype: object"
      ]
     },
     "execution_count": 445,
     "metadata": {},
     "output_type": "execute_result"
    }
   ],
   "source": [
    "df['Violation Time'].head()"
   ]
  },
  {
   "cell_type": "markdown",
   "metadata": {},
   "source": [
    "**Violation Time is *mainly* in this format: %I%M then either A for AM or P for PM.**  \n",
    "Python have a *format code* for AM and PM but does not understand A and P. So to solve this, I concatnated an 'M' to the time string."
   ]
  },
  {
   "cell_type": "code",
   "execution_count": 470,
   "metadata": {},
   "outputs": [],
   "source": [
    "violation_time_df = pd.to_datetime(df['Violation Time'] + 'M', errors='coerce', format='%I%M%p')"
   ]
  },
  {
   "cell_type": "markdown",
   "metadata": {},
   "source": [
    "However, there are a lot of bad formatted values.  \n",
    "    Action: we could replace these values with `Time First Observed` values if exist, or we could try to get the correct time. For example, the time '0049A' is badly formatted but we could assume that it was written in 24hs format, so we converted to => 12:49AM. "
   ]
  },
  {
   "cell_type": "code",
   "execution_count": 471,
   "metadata": {},
   "outputs": [
    {
     "data": {
      "text/plain": [
       "10         0049A\n",
       "11         0046A\n",
       "166        0055A\n",
       "234        0040A\n",
       "410        0015A\n",
       "           ...  \n",
       "4977373    0001A\n",
       "4977374    0046A\n",
       "4978206    0015A\n",
       "4978207    0016A\n",
       "4978208    0043A\n",
       "Name: Violation Time, Length: 20789, dtype: object"
      ]
     },
     "execution_count": 471,
     "metadata": {},
     "output_type": "execute_result"
    }
   ],
   "source": [
    "df[violation_time_df.isna()]['Violation Time']"
   ]
  },
  {
   "cell_type": "markdown",
   "metadata": {},
   "source": [
    "Handling values which are written in 24hs format"
   ]
  },
  {
   "cell_type": "code",
   "execution_count": 476,
   "metadata": {},
   "outputs": [],
   "source": [
    "violation_time_df[violation_time_df.isna()] = pd.to_datetime(df[violation_time_df.isna()]['Violation Time'].str.strip('AaPp'), errors='coerce', format='%H%M')"
   ]
  },
  {
   "cell_type": "markdown",
   "metadata": {},
   "source": [
    "Number of NaN values droppeed from 20789 to 171!"
   ]
  },
  {
   "cell_type": "code",
   "execution_count": 477,
   "metadata": {
    "scrolled": false
   },
   "outputs": [
    {
     "data": {
      "text/plain": [
       "573       NaT\n",
       "699       NaT\n",
       "840       NaT\n",
       "908       NaT\n",
       "3309      NaT\n",
       "           ..\n",
       "4074219   NaT\n",
       "4085461   NaT\n",
       "4086928   NaT\n",
       "4087112   NaT\n",
       "4303213   NaT\n",
       "Name: Violation Time, Length: 171, dtype: datetime64[ns]"
      ]
     },
     "execution_count": 477,
     "metadata": {},
     "output_type": "execute_result"
    }
   ],
   "source": [
    "violation_time_df[violation_time_df.isna()]"
   ]
  },
  {
   "cell_type": "markdown",
   "metadata": {},
   "source": [
    "## Time First Observed"
   ]
  },
  {
   "cell_type": "markdown",
   "metadata": {},
   "source": [
    "**Mostly missing values!**  \n",
    "Action: Fill with values from `Violation Time`."
   ]
  },
  {
   "cell_type": "code",
   "execution_count": 478,
   "metadata": {},
   "outputs": [
    {
     "data": {
      "text/plain": [
       "True"
      ]
     },
     "execution_count": 478,
     "metadata": {},
     "output_type": "execute_result"
    }
   ],
   "source": [
    "df['Time First Observed'].isna().any()"
   ]
  },
  {
   "cell_type": "code",
   "execution_count": 479,
   "metadata": {},
   "outputs": [
    {
     "data": {
      "text/plain": [
       "4744777"
      ]
     },
     "execution_count": 479,
     "metadata": {},
     "output_type": "execute_result"
    }
   ],
   "source": [
    "len(df[df['Time First Observed'].isna()])"
   ]
  },
  {
   "cell_type": "code",
   "execution_count": 482,
   "metadata": {},
   "outputs": [
    {
     "data": {
      "text/plain": [
       "50    0800A\n",
       "51    0740A\n",
       "52    1119A\n",
       "53    1035A\n",
       "54    1140A\n",
       "Name: Time First Observed, dtype: object"
      ]
     },
     "execution_count": 482,
     "metadata": {},
     "output_type": "execute_result"
    }
   ],
   "source": [
    "df[df['Time First Observed'].notna()]['Time First Observed'].head()"
   ]
  },
  {
   "cell_type": "code",
   "execution_count": 483,
   "metadata": {},
   "outputs": [],
   "source": [
    "time_first_observed_df = pd.to_datetime(df['Time First Observed'] + 'M', errors='coerce', format='%I%M%p')"
   ]
  },
  {
   "cell_type": "markdown",
   "metadata": {},
   "source": [
    "There are a lot of bad formatted values.  \n",
    "    Action: we could replace these values with `Violation Time` values if exist, or we could try to get the correct time. For example, the time '0049A' is badly formatted but we could assume that it was written in 24hs format, so we converted to => 12:49AM. "
   ]
  },
  {
   "cell_type": "code",
   "execution_count": 484,
   "metadata": {},
   "outputs": [
    {
     "data": {
      "text/plain": [
       "0          NaN\n",
       "1          NaN\n",
       "2          NaN\n",
       "3          NaN\n",
       "4          NaN\n",
       "          ... \n",
       "4984029    NaN\n",
       "4984030    NaN\n",
       "4984031    NaN\n",
       "4984032    NaN\n",
       "4984033    NaN\n",
       "Name: Time First Observed, Length: 4745606, dtype: object"
      ]
     },
     "execution_count": 484,
     "metadata": {},
     "output_type": "execute_result"
    }
   ],
   "source": [
    "df[time_first_observed_df.isna()]['Time First Observed']"
   ]
  },
  {
   "cell_type": "markdown",
   "metadata": {},
   "source": [
    "Handling values which are written in 24hs format"
   ]
  },
  {
   "cell_type": "code",
   "execution_count": 485,
   "metadata": {},
   "outputs": [],
   "source": [
    "time_first_observed_df[time_first_observed_df.isna()] = pd.to_datetime(df[time_first_observed_df.isna()]['Time First Observed'].str.strip('AaPp'), errors='coerce', format='%H%M')"
   ]
  },
  {
   "cell_type": "markdown",
   "metadata": {},
   "source": [
    "Number of NaN values barely droppeed"
   ]
  },
  {
   "cell_type": "code",
   "execution_count": 486,
   "metadata": {},
   "outputs": [
    {
     "data": {
      "text/plain": [
       "0         NaT\n",
       "1         NaT\n",
       "2         NaT\n",
       "3         NaT\n",
       "4         NaT\n",
       "           ..\n",
       "4984029   NaT\n",
       "4984030   NaT\n",
       "4984031   NaT\n",
       "4984032   NaT\n",
       "4984033   NaT\n",
       "Name: Time First Observed, Length: 4744779, dtype: datetime64[ns]"
      ]
     },
     "execution_count": 486,
     "metadata": {},
     "output_type": "execute_result"
    }
   ],
   "source": [
    "time_first_observed_df[time_first_observed_df.isna()]"
   ]
  },
  {
   "cell_type": "markdown",
   "metadata": {},
   "source": [
    "We could use `Time First Observed` values to fill NaN values of `Violation Time`"
   ]
  },
  {
   "cell_type": "code",
   "execution_count": 493,
   "metadata": {},
   "outputs": [],
   "source": [
    "violation_time_df[violation_time_df.isna()] = df[violation_time_df.isna()]['Time First Observed']"
   ]
  },
  {
   "cell_type": "markdown",
   "metadata": {},
   "source": [
    "Number of NaN values of `Violation Time` barely droppeed"
   ]
  },
  {
   "cell_type": "code",
   "execution_count": 494,
   "metadata": {
    "scrolled": true
   },
   "outputs": [
    {
     "data": {
      "text/plain": [
       "699        NaN\n",
       "840        NaN\n",
       "908        NaN\n",
       "3309       NaN\n",
       "4008       NaN\n",
       "          ... \n",
       "4074219    NaN\n",
       "4085461    NaN\n",
       "4086928    NaN\n",
       "4087112    NaN\n",
       "4303213    NaN\n",
       "Name: Violation Time, Length: 165, dtype: object"
      ]
     },
     "execution_count": 494,
     "metadata": {},
     "output_type": "execute_result"
    }
   ],
   "source": [
    "violation_time_df[violation_time_df.isna()]"
   ]
  },
  {
   "cell_type": "markdown",
   "metadata": {},
   "source": [
    "**Action: We can use this feature to fill NaN values of `Violatoin Time` and vice versa.**"
   ]
  },
  {
   "cell_type": "markdown",
   "metadata": {},
   "source": [
    "## Violation County"
   ]
  },
  {
   "cell_type": "markdown",
   "metadata": {},
   "source": [
    "**Few missing values**  \n",
    "Action: Fill with Unknown"
   ]
  },
  {
   "cell_type": "code",
   "execution_count": 499,
   "metadata": {},
   "outputs": [
    {
     "data": {
      "text/plain": [
       "True"
      ]
     },
     "execution_count": 499,
     "metadata": {},
     "output_type": "execute_result"
    }
   ],
   "source": [
    "df['Violation County'].isna().any()"
   ]
  },
  {
   "cell_type": "code",
   "execution_count": 502,
   "metadata": {},
   "outputs": [
    {
     "data": {
      "text/plain": [
       "17655"
      ]
     },
     "execution_count": 502,
     "metadata": {},
     "output_type": "execute_result"
    }
   ],
   "source": [
    "len(df[df['Violation County'].isna()])"
   ]
  },
  {
   "cell_type": "code",
   "execution_count": 500,
   "metadata": {},
   "outputs": [
    {
     "data": {
      "text/plain": [
       "array(['NY', nan, 'R', 'K', 'BX', 'Q', 'QN', 'MN', 'BK', 'ST', 'K   F'],\n",
       "      dtype=object)"
      ]
     },
     "execution_count": 500,
     "metadata": {},
     "output_type": "execute_result"
    }
   ],
   "source": [
    "df['Violation County'].unique()"
   ]
  },
  {
   "cell_type": "markdown",
   "metadata": {},
   "source": [
    "### Mapping Violation County\n",
    "We need to make sure that all Violation Counties are valid. We will use the Violation County dataset for that."
   ]
  },
  {
   "cell_type": "code",
   "execution_count": 504,
   "metadata": {},
   "outputs": [],
   "source": [
    "df_violation_county = pd.read_json('Dataset/counties.json').set_index('County Code')"
   ]
  },
  {
   "cell_type": "code",
   "execution_count": 505,
   "metadata": {},
   "outputs": [
    {
     "data": {
      "text/html": [
       "<div>\n",
       "<style scoped>\n",
       "    .dataframe tbody tr th:only-of-type {\n",
       "        vertical-align: middle;\n",
       "    }\n",
       "\n",
       "    .dataframe tbody tr th {\n",
       "        vertical-align: top;\n",
       "    }\n",
       "\n",
       "    .dataframe thead th {\n",
       "        text-align: right;\n",
       "    }\n",
       "</style>\n",
       "<table border=\"1\" class=\"dataframe\">\n",
       "  <thead>\n",
       "    <tr style=\"text-align: right;\">\n",
       "      <th></th>\n",
       "      <th>County</th>\n",
       "    </tr>\n",
       "    <tr>\n",
       "      <th>County Code</th>\n",
       "      <th></th>\n",
       "    </tr>\n",
       "  </thead>\n",
       "  <tbody>\n",
       "    <tr>\n",
       "      <th>NY</th>\n",
       "      <td>Manhattan</td>\n",
       "    </tr>\n",
       "    <tr>\n",
       "      <th>MN</th>\n",
       "      <td>Manhattan</td>\n",
       "    </tr>\n",
       "    <tr>\n",
       "      <th>K</th>\n",
       "      <td>Brooklyn</td>\n",
       "    </tr>\n",
       "    <tr>\n",
       "      <th>BK</th>\n",
       "      <td>Brooklyn</td>\n",
       "    </tr>\n",
       "    <tr>\n",
       "      <th>BX</th>\n",
       "      <td>Bronx</td>\n",
       "    </tr>\n",
       "  </tbody>\n",
       "</table>\n",
       "</div>"
      ],
      "text/plain": [
       "                County\n",
       "County Code           \n",
       "NY           Manhattan\n",
       "MN           Manhattan\n",
       "K             Brooklyn\n",
       "BK            Brooklyn\n",
       "BX               Bronx"
      ]
     },
     "execution_count": 505,
     "metadata": {},
     "output_type": "execute_result"
    }
   ],
   "source": [
    "df_violation_county.head()"
   ]
  },
  {
   "cell_type": "code",
   "execution_count": 506,
   "metadata": {},
   "outputs": [],
   "source": [
    "df_with_mapped_df_violation_county = df.join(df_violation_county, on='Violation County')"
   ]
  },
  {
   "cell_type": "markdown",
   "metadata": {},
   "source": [
    "**There aree some unknown Violation Counties.**  \n",
    "Action: Fill with 'Unknown'"
   ]
  },
  {
   "cell_type": "code",
   "execution_count": 507,
   "metadata": {},
   "outputs": [
    {
     "data": {
      "text/plain": [
       "array([nan, 'K   F'], dtype=object)"
      ]
     },
     "execution_count": 507,
     "metadata": {},
     "output_type": "execute_result"
    }
   ],
   "source": [
    "df_with_mapped_df_violation_county[df_with_mapped_df_violation_county['County'].isna()]['Violation County'].unique()"
   ]
  },
  {
   "cell_type": "markdown",
   "metadata": {},
   "source": [
    "## Violation In Front Of Or Opposite"
   ]
  },
  {
   "cell_type": "markdown",
   "metadata": {},
   "source": [
    "**A lot of missing values**  \n",
    "Action: Fill with Unknown"
   ]
  },
  {
   "cell_type": "code",
   "execution_count": 508,
   "metadata": {},
   "outputs": [
    {
     "data": {
      "text/plain": [
       "True"
      ]
     },
     "execution_count": 508,
     "metadata": {},
     "output_type": "execute_result"
    }
   ],
   "source": [
    "df['Violation In Front Of Or Opposite'].isna().any()"
   ]
  },
  {
   "cell_type": "code",
   "execution_count": 509,
   "metadata": {},
   "outputs": [
    {
     "data": {
      "text/plain": [
       "1475098"
      ]
     },
     "execution_count": 509,
     "metadata": {},
     "output_type": "execute_result"
    }
   ],
   "source": [
    "len(df[df['Violation In Front Of Or Opposite'].isna()])"
   ]
  },
  {
   "cell_type": "code",
   "execution_count": 510,
   "metadata": {},
   "outputs": [
    {
     "data": {
      "text/plain": [
       "array(['F', 'O', nan, 'I', 'X', 'R', '9'], dtype=object)"
      ]
     },
     "execution_count": 510,
     "metadata": {},
     "output_type": "execute_result"
    }
   ],
   "source": [
    "df['Violation In Front Of Or Opposite'].unique()"
   ]
  },
  {
   "cell_type": "markdown",
   "metadata": {},
   "source": [
    "### Mapping Violation In Front Of Or Opposite\n",
    "We need to make sure that all Violation In Front Of Or Opposite are valid values. We will use this map:\n",
    "- I, F => InFront\n",
    "- O => Opposite\n",
    "- ELSE => Unknown"
   ]
  },
  {
   "cell_type": "code",
   "execution_count": 517,
   "metadata": {},
   "outputs": [],
   "source": [
    "s_in_front_or_opposite = pd.Series({'I': 'InFront', 'F': 'InFront', 'O': 'Opposite'})"
   ]
  },
  {
   "cell_type": "code",
   "execution_count": 514,
   "metadata": {},
   "outputs": [
    {
     "data": {
      "text/plain": [
       "I     InFront\n",
       "F     InFront\n",
       "O    Opposite\n",
       "dtype: object"
      ]
     },
     "execution_count": 514,
     "metadata": {},
     "output_type": "execute_result"
    }
   ],
   "source": [
    "s_in_front_or_opposite.head()"
   ]
  },
  {
   "cell_type": "code",
   "execution_count": 534,
   "metadata": {},
   "outputs": [],
   "source": [
    "df['Violation In Front Of Or Opposite'] = df['Violation In Front Of Or Opposite'].map(s_in_front_or_opposite)\n"
   ]
  },
  {
   "cell_type": "code",
   "execution_count": 535,
   "metadata": {},
   "outputs": [
    {
     "data": {
      "text/plain": [
       "1497221"
      ]
     },
     "execution_count": 535,
     "metadata": {},
     "output_type": "execute_result"
    }
   ],
   "source": [
    "len(df[df['Violation In Front Of Or Opposite'].isna()])"
   ]
  },
  {
   "cell_type": "code",
   "execution_count": 536,
   "metadata": {},
   "outputs": [
    {
     "data": {
      "text/plain": [
       "array(['InFront', 'Opposite', nan], dtype=object)"
      ]
     },
     "execution_count": 536,
     "metadata": {},
     "output_type": "execute_result"
    }
   ],
   "source": [
    "df['Violation In Front Of Or Opposite'].unique()"
   ]
  },
  {
   "cell_type": "code",
   "execution_count": 630,
   "metadata": {},
   "outputs": [
    {
     "data": {
      "text/plain": [
       "<matplotlib.axes._subplots.AxesSubplot at 0x27bcf4a50>"
      ]
     },
     "execution_count": 630,
     "metadata": {},
     "output_type": "execute_result"
    },
    {
     "data": {
      "image/png": "[encoded data removed]",
      "text/plain": [
       "<Figure size 432x288 with 1 Axes>"
      ]
     },
     "metadata": {
      "needs_background": "light"
     },
     "output_type": "display_data"
    }
   ],
   "source": [
    "pd.value_counts(df['Violation In Front Of Or Opposite']).plot.bar()"
   ]
  },
  {
   "cell_type": "markdown",
   "metadata": {},
   "source": [
    "## House Number"
   ]
  },
  {
   "cell_type": "markdown",
   "metadata": {},
   "source": [
    "**A lot of missing values.**  \n",
    "Action: Fill with Unknown"
   ]
  },
  {
   "cell_type": "code",
   "execution_count": 537,
   "metadata": {},
   "outputs": [
    {
     "data": {
      "text/plain": [
       "True"
      ]
     },
     "execution_count": 537,
     "metadata": {},
     "output_type": "execute_result"
    }
   ],
   "source": [
    "df['House Number'].isna().any()"
   ]
  },
  {
   "cell_type": "code",
   "execution_count": 541,
   "metadata": {},
   "outputs": [
    {
     "data": {
      "text/plain": [
       "1517393"
      ]
     },
     "execution_count": 541,
     "metadata": {},
     "output_type": "execute_result"
    }
   ],
   "source": [
    "len(df[df['House Number'].isna()])"
   ]
  },
  {
   "cell_type": "code",
   "execution_count": 539,
   "metadata": {
    "scrolled": true
   },
   "outputs": [
    {
     "data": {
      "text/plain": [
       "array(['21', '545', '509', ..., '32-94', '1380-82', '2287-92'],\n",
       "      dtype=object)"
      ]
     },
     "execution_count": 539,
     "metadata": {},
     "output_type": "execute_result"
    }
   ],
   "source": [
    "df['House Number'].unique()"
   ]
  },
  {
   "cell_type": "markdown",
   "metadata": {},
   "source": [
    "## Street Name"
   ]
  },
  {
   "cell_type": "markdown",
   "metadata": {},
   "source": [
    "**Few missing values.**  \n",
    "Action: Fill with Unknown"
   ]
  },
  {
   "cell_type": "code",
   "execution_count": 542,
   "metadata": {},
   "outputs": [
    {
     "data": {
      "text/plain": [
       "True"
      ]
     },
     "execution_count": 542,
     "metadata": {},
     "output_type": "execute_result"
    }
   ],
   "source": [
    "df['Street Name'].isna().any()"
   ]
  },
  {
   "cell_type": "code",
   "execution_count": 543,
   "metadata": {},
   "outputs": [
    {
     "data": {
      "text/plain": [
       "624"
      ]
     },
     "execution_count": 543,
     "metadata": {},
     "output_type": "execute_result"
    }
   ],
   "source": [
    "len(df[df['Street Name'].isna()])"
   ]
  },
  {
   "cell_type": "code",
   "execution_count": 544,
   "metadata": {
    "scrolled": true
   },
   "outputs": [
    {
     "data": {
      "text/plain": [
       "array(['OLD BROADWAY', 'W 126 STREET', 'W 125 ST', ..., 'Manee Ave',\n",
       "       'Dryden Ct', 'Harkness Ave'], dtype=object)"
      ]
     },
     "execution_count": 544,
     "metadata": {},
     "output_type": "execute_result"
    }
   ],
   "source": [
    "df['Street Name'].unique()"
   ]
  },
  {
   "cell_type": "markdown",
   "metadata": {},
   "source": [
    "## Intersecting Street"
   ]
  },
  {
   "cell_type": "markdown",
   "metadata": {},
   "source": [
    "**A lot of missing values.**  \n",
    "Action: Fill with 'NULL'; because maybe there is no intersecting street."
   ]
  },
  {
   "cell_type": "code",
   "execution_count": 546,
   "metadata": {},
   "outputs": [
    {
     "data": {
      "text/plain": [
       "True"
      ]
     },
     "execution_count": 546,
     "metadata": {},
     "output_type": "execute_result"
    }
   ],
   "source": [
    "df['Intersecting Street'].isna().any()"
   ]
  },
  {
   "cell_type": "code",
   "execution_count": 547,
   "metadata": {},
   "outputs": [
    {
     "data": {
      "text/plain": [
       "3002307"
      ]
     },
     "execution_count": 547,
     "metadata": {},
     "output_type": "execute_result"
    }
   ],
   "source": [
    "len(df[df['Intersecting Street'].isna()])"
   ]
  },
  {
   "cell_type": "code",
   "execution_count": 548,
   "metadata": {
    "scrolled": true
   },
   "outputs": [
    {
     "data": {
      "text/plain": [
       "array([nan, 'GOLD', 'GOLD STREET', ..., '135ft N/of West St',\n",
       "       '50ft S/of 4th Ave', '100ft S/of W 54th St'], dtype=object)"
      ]
     },
     "execution_count": 548,
     "metadata": {},
     "output_type": "execute_result"
    }
   ],
   "source": [
    "df['Intersecting Street'].unique()"
   ]
  },
  {
   "cell_type": "markdown",
   "metadata": {},
   "source": [
    "## Date First Observed"
   ]
  },
  {
   "cell_type": "markdown",
   "metadata": {},
   "source": [
    "**Mostly missing values (represented as 0).**  \n",
    "Action: Fill with the value of `Issue Date`. "
   ]
  },
  {
   "cell_type": "code",
   "execution_count": 613,
   "metadata": {},
   "outputs": [
    {
     "data": {
      "text/plain": [
       "False"
      ]
     },
     "execution_count": 613,
     "metadata": {},
     "output_type": "execute_result"
    }
   ],
   "source": [
    "df['Date First Observed'].isna().any()"
   ]
  },
  {
   "cell_type": "code",
   "execution_count": 614,
   "metadata": {},
   "outputs": [
    {
     "data": {
      "text/plain": [
       "4927538"
      ]
     },
     "execution_count": 614,
     "metadata": {},
     "output_type": "execute_result"
    }
   ],
   "source": [
    "len(df[(df['Date First Observed'] == '0') | (df['Date First Observed'] == 0)])"
   ]
  },
  {
   "cell_type": "markdown",
   "metadata": {},
   "source": [
    "**All the dates are in a very bad format (e.g., 20,190,625). Which is basically %Y%m%d but with some commas.**"
   ]
  },
  {
   "cell_type": "code",
   "execution_count": 616,
   "metadata": {},
   "outputs": [
    {
     "data": {
      "text/plain": [
       "True"
      ]
     },
     "execution_count": 616,
     "metadata": {},
     "output_type": "execute_result"
    }
   ],
   "source": [
    "not_missing_dfo = df[(df['Date First Observed'] != '0') & (df['Date First Observed'] != 0)]['Date First Observed']\n",
    "not_missing_dfo.str.contains(r'^\\d{2},\\d{3},\\d{3}$').all()"
   ]
  },
  {
   "cell_type": "code",
   "execution_count": 617,
   "metadata": {},
   "outputs": [],
   "source": [
    "date_first_observed_df = pd.to_datetime(df['Date First Observed'].str.replace(',', ''), errors='coerce', format='%Y%m%d')"
   ]
  },
  {
   "cell_type": "code",
   "execution_count": 619,
   "metadata": {},
   "outputs": [
    {
     "data": {
      "text/plain": [
       "56496"
      ]
     },
     "execution_count": 619,
     "metadata": {},
     "output_type": "execute_result"
    }
   ],
   "source": [
    "date_first_observed_df.count()"
   ]
  },
  {
   "cell_type": "markdown",
   "metadata": {},
   "source": [
    "## Law Section"
   ]
  },
  {
   "cell_type": "markdown",
   "metadata": {},
   "source": [
    "**No missing values.**  "
   ]
  },
  {
   "cell_type": "code",
   "execution_count": 622,
   "metadata": {},
   "outputs": [
    {
     "data": {
      "text/plain": [
       "False"
      ]
     },
     "execution_count": 622,
     "metadata": {},
     "output_type": "execute_result"
    }
   ],
   "source": [
    "df['Law Section'].isna().any()"
   ]
  },
  {
   "cell_type": "code",
   "execution_count": 632,
   "metadata": {},
   "outputs": [
    {
     "data": {
      "text/plain": [
       "array(['408', '1,111', '1,180', 408, '0'], dtype=object)"
      ]
     },
     "execution_count": 632,
     "metadata": {},
     "output_type": "execute_result"
    }
   ],
   "source": [
    "df['Law Section'].unique()"
   ]
  },
  {
   "cell_type": "code",
   "execution_count": 629,
   "metadata": {
    "scrolled": false
   },
   "outputs": [
    {
     "data": {
      "text/plain": [
       "<matplotlib.axes._subplots.AxesSubplot at 0x27bc39b90>"
      ]
     },
     "execution_count": 629,
     "metadata": {},
     "output_type": "execute_result"
    },
    {
     "data": {
      "image/png": "[encoded data removed]",
      "text/plain": [
       "<Figure size 432x288 with 1 Axes>"
      ]
     },
     "metadata": {
      "needs_background": "light"
     },
     "output_type": "display_data"
    }
   ],
   "source": [
    "pd.value_counts(df['Law Section']).plot.bar()"
   ]
  },
  {
   "cell_type": "markdown",
   "metadata": {},
   "source": [
    "## Sub Division"
   ]
  },
  {
   "cell_type": "markdown",
   "metadata": {},
   "source": [
    "**Very few missing values.**  "
   ]
  },
  {
   "cell_type": "code",
   "execution_count": 633,
   "metadata": {},
   "outputs": [
    {
     "data": {
      "text/plain": [
       "True"
      ]
     },
     "execution_count": 633,
     "metadata": {},
     "output_type": "execute_result"
    }
   ],
   "source": [
    "df['Sub Division'].isna().any()"
   ]
  },
  {
   "cell_type": "code",
   "execution_count": 635,
   "metadata": {},
   "outputs": [
    {
     "data": {
      "text/plain": [
       "1174"
      ]
     },
     "execution_count": 635,
     "metadata": {},
     "output_type": "execute_result"
    }
   ],
   "source": [
    "len(df[df['Sub Division'].isna()])"
   ]
  },
  {
   "cell_type": "code",
   "execution_count": 636,
   "metadata": {},
   "outputs": [
    {
     "data": {
      "text/plain": [
       "array(['D1', 'F1', 'F2', 'C', 'E2', 'D', 'E9', 'C3', 'C4', 'E3', 'J6',\n",
       "       'M1', 'B', 'K2', 'F7', 'E5', '5', 'D5', 'J3', 'E4', 'F3', 'J5',\n",
       "       'K6', 'K4', 'M2', '99', 'J2', 'I3', 'C8', 'K5', 'J7', 'H2', 'F4',\n",
       "       'E6', 'D3', 'D4', 'F6', 'L2', 'E1', 'I4', 'F5', 'A1', 'H8', 'M5',\n",
       "       nan, 'N1', 'N2', 'C5', 'N8', 'I', 'O3', 'C1', 'G2', 'E8', 'K7',\n",
       "       'N5', 'L', 'C7', 'K1', 'D2', 'J4', 'H1', 'H0', 'C2', 'L4', 'P1',\n",
       "       'D7', 'K3', 'H3', 'L3', 'H5', 'E7', 'J9', 'C6', '11', 'G3'],\n",
       "      dtype=object)"
      ]
     },
     "execution_count": 636,
     "metadata": {},
     "output_type": "execute_result"
    }
   ],
   "source": [
    "df['Sub Division'].unique()"
   ]
  },
  {
   "cell_type": "code",
   "execution_count": 645,
   "metadata": {
    "scrolled": false
   },
   "outputs": [
    {
     "data": {
      "text/plain": [
       "<matplotlib.axes._subplots.AxesSubplot at 0x15f4a8d10>"
      ]
     },
     "execution_count": 645,
     "metadata": {},
     "output_type": "execute_result"
    },
    {
     "data": {
      "image/png": "[encoded data removed]",
      "text/plain": [
       "<Figure size 432x288 with 1 Axes>"
      ]
     },
     "metadata": {
      "needs_background": "light"
     },
     "output_type": "display_data"
    }
   ],
   "source": [
    "pd.value_counts(df['Sub Division']).plot()"
   ]
  },
  {
   "cell_type": "markdown",
   "metadata": {},
   "source": [
    "## Violation Legal Code"
   ]
  },
  {
   "cell_type": "markdown",
   "metadata": {},
   "source": [
    "**A lot of missing values.**  \n",
    "Action: DROP. The data is not useful as shown below."
   ]
  },
  {
   "cell_type": "code",
   "execution_count": 646,
   "metadata": {},
   "outputs": [
    {
     "data": {
      "text/plain": [
       "True"
      ]
     },
     "execution_count": 646,
     "metadata": {},
     "output_type": "execute_result"
    }
   ],
   "source": [
    "df['Violation Legal Code'].isna().any()"
   ]
  },
  {
   "cell_type": "code",
   "execution_count": 647,
   "metadata": {},
   "outputs": [
    {
     "data": {
      "text/plain": [
       "3547381"
      ]
     },
     "execution_count": 647,
     "metadata": {},
     "output_type": "execute_result"
    }
   ],
   "source": [
    "len(df[df['Violation Legal Code'].isna()])"
   ]
  },
  {
   "cell_type": "code",
   "execution_count": 648,
   "metadata": {},
   "outputs": [
    {
     "data": {
      "text/plain": [
       "array([nan, 'T', '0'], dtype=object)"
      ]
     },
     "execution_count": 648,
     "metadata": {},
     "output_type": "execute_result"
    }
   ],
   "source": [
    "df['Violation Legal Code'].unique()"
   ]
  },
  {
   "cell_type": "code",
   "execution_count": 650,
   "metadata": {
    "scrolled": true
   },
   "outputs": [
    {
     "data": {
      "text/plain": [
       "<matplotlib.axes._subplots.AxesSubplot at 0x15fee0cd0>"
      ]
     },
     "execution_count": 650,
     "metadata": {},
     "output_type": "execute_result"
    },
    {
     "data": {
      "image/png": "[encoded data removed]",
      "text/plain": [
       "<Figure size 432x288 with 1 Axes>"
      ]
     },
     "metadata": {
      "needs_background": "light"
     },
     "output_type": "display_data"
    }
   ],
   "source": [
    "pd.value_counts(df['Violation Legal Code']).plot.bar()"
   ]
  },
  {
   "cell_type": "markdown",
   "metadata": {},
   "source": [
    "## Days Parking In Effect"
   ]
  },
  {
   "cell_type": "markdown",
   "metadata": {},
   "source": [
    "**A lot of missing values.**  \n",
    "Action: DROP. I have no idea what does this mean. I can't find any explanation for it."
   ]
  },
  {
   "cell_type": "code",
   "execution_count": 659,
   "metadata": {},
   "outputs": [
    {
     "data": {
      "text/plain": [
       "True"
      ]
     },
     "execution_count": 659,
     "metadata": {},
     "output_type": "execute_result"
    }
   ],
   "source": [
    "df['Days Parking In Effect    '].isna().any()"
   ]
  },
  {
   "cell_type": "code",
   "execution_count": 660,
   "metadata": {},
   "outputs": [
    {
     "data": {
      "text/plain": [
       "1436712"
      ]
     },
     "execution_count": 660,
     "metadata": {},
     "output_type": "execute_result"
    }
   ],
   "source": [
    "len(df[df['Days Parking In Effect    '].isna()])"
   ]
  },
  {
   "cell_type": "code",
   "execution_count": 661,
   "metadata": {},
   "outputs": [
    {
     "data": {
      "text/plain": [
       "array(['BYBBYBB', 'BBBBBBB', 'YYYYYBB', 'YBBYBBB', 'YYYYYYY', 'YYYYYYB',\n",
       "       'YBBBYBB', 'BBBBYBB', 'BYBBBBB', 'BBBYBBB', 'YBBBBBB', 'YBYYYBB',\n",
       "       'BBBBBYB', 'BBBBBYY', 'YBYBYBB', 'BBYBBBB', 'YYBYBBB', 'BYBYBYB',\n",
       "       'BBBBBBY', nan, 'BBBBYYY', 'YYBYYBB', 'BBBBYYB', 'BYYBBBB',\n",
       "       'YYYYBBB', 'YYYYBYB', 'YBBYYBB', 'BYBBYYB', 'BYYYYBB', 'YYBBYBB',\n",
       "       'BYYBYBB', 'BYYYYYB', 'BYBYYBB', 'BYYYYYY', 'BBYBBYY', 'YYYYYBY',\n",
       "       'YYYBYBY', 'YYBYYBY', 'BYBYBBB', 'BYBBBYB', 'BBBYYBB', 'BBYYBBB',\n",
       "       'YYYBYYB', 'YBBYBBY', 'BBYBBYB', 'BBYYYYB', 'YYBYYYB', 'YYYYBYY',\n",
       "       'YYBBBBB', 'YBYYYYB', 'BBBBYBY', 'BYBBYYY', 'YBBBBBY', 'YBYYBBB',\n",
       "       'YYBYBYB', 'BYBBBYY', 'BYBBYBY', 'YBBBBYY', 'YYYBYBB', 'YBYBYYB',\n",
       "       'YBBYBYY', 'YBYBBBB', 'YBYBBYB', 'BYYYBYB', 'BYBYYYB', 'YBBYBYB',\n",
       "       'BYYYBBB', 'YBBBBYB', 'BBYBBBY', 'BYYBYYB', 'BBBYBYY', 'YBYBYBY',\n",
       "       'BYBYBBY', 'YBBYYBY', 'BBBYYYB', 'YBBBYBY', 'BBBYBBY', 'YBYBBBY',\n",
       "       'YBBYYYB', '  Y  Y', ' YYYYY', ' YYYYYY', '  Y', 'SCHOOL', ' Y  Y',\n",
       "       '      Y', 'Y     Y', ' YY YY', 'Y', 'YYYYYY', ' Y   Y', '  Y   Y',\n",
       "       '   Y', '    Y', '     Y', ' Y', '  Y Y Y', ' YYYY', '  Y Y',\n",
       "       'Y    YY', ' Y Y Y', '  YY  Y', '    YY', ' Y YY', 'YY YYYY',\n",
       "       '  YY', ' YY Y', 'Y YYYYY', '   Y  Y', '  Y YY', '  Y  YY',\n",
       "       ' YY  Y', ' YY YYY', ' Y Y  Y', '  YYYYY', 'Y    Y', '   Y Y',\n",
       "       'YYYYY', 'YYY YYY', '   YY', '   Y YY', ' Y YY Y', 'YYYY YY',\n",
       "       'Y  Y', 'YY  Y', 'Y   Y', ' Y    Y', 'BBYYYBB', 'BYBBBBY',\n",
       "       'BBYBYBB', 'YYYBBBB', 'BYYBBYB', 'YBYYYBY', 'YBBBYYY', 'YYBBBYY',\n",
       "       'YYBYBYY', 'YYBBYYB', 'BBYYYYY', 'YBBBYYB', 'YYYBBBY', 'YYYBYYY',\n",
       "       'BBYYYBY', '  YYYY', ' YYY Y', ' Y YYY', ' Y  Y Y', 'YY Y YY',\n",
       "       ' Y  YY', ' YYY', ' Y Y', 'Y   Y Y', ' YY', 'YYYBBYY', 'BYYYYBY',\n",
       "       'BBYBYYY', 'YYYBBYB', 'BBBYYYY', ' YYYY Y', 'YY YY Y', '    Y Y',\n",
       "       ' YYY YY', 'YBYYBYB', 'YYBYYYY', 'YBYYYYY', 'YYYYBBY', 'BBBYYBY',\n",
       "       'YBYBYYY', 'YBBYYYY', '     YY', ' Y YYYY', 'Y YY  Y', 'YYYYY Y',\n",
       "       '   YYY', 'Y Y Y', 'Y Y Y Y', 'YYY YY', 'BBYYBYB', 'BYBYBYY',\n",
       "       'BBYYBYY', 'YYYY', 'Y YYY Y', ' Y  YYY', 'YY    Y', '  YY Y',\n",
       "       'BBBYBYB', '    YYY', 'Y YYYY', 'Y Y  Y', ' Y   YY', 'YY  Y Y',\n",
       "       'YYBBYYY', 'Y  Y Y'], dtype=object)"
      ]
     },
     "execution_count": 661,
     "metadata": {},
     "output_type": "execute_result"
    }
   ],
   "source": [
    "df['Days Parking In Effect    '].unique()"
   ]
  },
  {
   "cell_type": "markdown",
   "metadata": {},
   "source": [
    "## From Hours In Effect"
   ]
  },
  {
   "cell_type": "markdown",
   "metadata": {},
   "source": [
    "**A lot of missing values.** \n",
    "Action: DROP"
   ]
  },
  {
   "cell_type": "code",
   "execution_count": 662,
   "metadata": {},
   "outputs": [
    {
     "data": {
      "text/plain": [
       "True"
      ]
     },
     "execution_count": 662,
     "metadata": {},
     "output_type": "execute_result"
    }
   ],
   "source": [
    "df['From Hours In Effect'].isna().any()"
   ]
  },
  {
   "cell_type": "code",
   "execution_count": 663,
   "metadata": {},
   "outputs": [
    {
     "data": {
      "text/plain": [
       "2942443"
      ]
     },
     "execution_count": 663,
     "metadata": {},
     "output_type": "execute_result"
    }
   ],
   "source": [
    "len(df[df['From Hours In Effect'].isna()])"
   ]
  },
  {
   "cell_type": "code",
   "execution_count": 666,
   "metadata": {
    "scrolled": true
   },
   "outputs": [
    {
     "data": {
      "text/plain": [
       "0    0900A\n",
       "1      ALL\n",
       "2      ALL\n",
       "3      ALL\n",
       "4      ALL\n",
       "Name: From Hours In Effect, dtype: object"
      ]
     },
     "execution_count": 666,
     "metadata": {},
     "output_type": "execute_result"
    }
   ],
   "source": [
    "df['From Hours In Effect'].head()"
   ]
  },
  {
   "cell_type": "markdown",
   "metadata": {},
   "source": [
    "## To Hours In Effect"
   ]
  },
  {
   "cell_type": "markdown",
   "metadata": {},
   "source": [
    "**A lot of missing values.** \n",
    "Action: DROP"
   ]
  },
  {
   "cell_type": "code",
   "execution_count": 667,
   "metadata": {},
   "outputs": [
    {
     "data": {
      "text/plain": [
       "True"
      ]
     },
     "execution_count": 667,
     "metadata": {},
     "output_type": "execute_result"
    }
   ],
   "source": [
    "df['To Hours In Effect'].isna().any()"
   ]
  },
  {
   "cell_type": "code",
   "execution_count": 672,
   "metadata": {},
   "outputs": [
    {
     "data": {
      "text/plain": [
       "2942443"
      ]
     },
     "execution_count": 672,
     "metadata": {},
     "output_type": "execute_result"
    }
   ],
   "source": [
    "len(df[df['To Hours In Effect'].isna()])"
   ]
  },
  {
   "cell_type": "markdown",
   "metadata": {},
   "source": [
    "## Unregistered Vehicle?"
   ]
  },
  {
   "cell_type": "markdown",
   "metadata": {},
   "source": [
    "**All are missing values.**  \n",
    "Action: DROP"
   ]
  },
  {
   "cell_type": "code",
   "execution_count": 673,
   "metadata": {},
   "outputs": [
    {
     "data": {
      "text/plain": [
       "True"
      ]
     },
     "execution_count": 673,
     "metadata": {},
     "output_type": "execute_result"
    }
   ],
   "source": [
    "df['Unregistered Vehicle?'].isna().any()"
   ]
  },
  {
   "cell_type": "code",
   "execution_count": 674,
   "metadata": {},
   "outputs": [
    {
     "data": {
      "text/plain": [
       "4635092"
      ]
     },
     "execution_count": 674,
     "metadata": {},
     "output_type": "execute_result"
    }
   ],
   "source": [
    "len(df[df['Unregistered Vehicle?'].isna()])"
   ]
  },
  {
   "cell_type": "code",
   "execution_count": 675,
   "metadata": {},
   "outputs": [
    {
     "data": {
      "text/plain": [
       "array([ 0., nan])"
      ]
     },
     "execution_count": 675,
     "metadata": {},
     "output_type": "execute_result"
    }
   ],
   "source": [
    "df['Unregistered Vehicle?'].unique()"
   ]
  },
  {
   "cell_type": "markdown",
   "metadata": {},
   "source": [
    "## Meter Number"
   ]
  },
  {
   "cell_type": "markdown",
   "metadata": {},
   "source": [
    "**Mostly missing values.**  \n",
    "Action: DROP"
   ]
  },
  {
   "cell_type": "code",
   "execution_count": 676,
   "metadata": {},
   "outputs": [
    {
     "data": {
      "text/plain": [
       "True"
      ]
     },
     "execution_count": 676,
     "metadata": {},
     "output_type": "execute_result"
    }
   ],
   "source": [
    "df['Meter Number'].isna().any()"
   ]
  },
  {
   "cell_type": "code",
   "execution_count": 677,
   "metadata": {},
   "outputs": [
    {
     "data": {
      "text/plain": [
       "4622698"
      ]
     },
     "execution_count": 677,
     "metadata": {},
     "output_type": "execute_result"
    }
   ],
   "source": [
    "len(df[df['Meter Number'].isna()])"
   ]
  },
  {
   "cell_type": "code",
   "execution_count": 678,
   "metadata": {},
   "outputs": [
    {
     "data": {
      "text/plain": [
       "array(['-', nan, '113-3066', ..., '319-3098', '409-3087', '143-3756'],\n",
       "      dtype=object)"
      ]
     },
     "execution_count": 678,
     "metadata": {},
     "output_type": "execute_result"
    }
   ],
   "source": [
    "df['Meter Number'].unique()"
   ]
  },
  {
   "cell_type": "markdown",
   "metadata": {},
   "source": [
    "## Feet From Curb"
   ]
  },
  {
   "cell_type": "markdown",
   "metadata": {},
   "source": [
    "**Mostly missing values. (Represented as 0)**  \n",
    "Action: DROP"
   ]
  },
  {
   "cell_type": "code",
   "execution_count": 680,
   "metadata": {},
   "outputs": [
    {
     "data": {
      "text/plain": [
       "False"
      ]
     },
     "execution_count": 680,
     "metadata": {},
     "output_type": "execute_result"
    }
   ],
   "source": [
    "df['Feet From Curb'].isna().any()"
   ]
  },
  {
   "cell_type": "code",
   "execution_count": 686,
   "metadata": {},
   "outputs": [
    {
     "data": {
      "text/plain": [
       "4881513"
      ]
     },
     "execution_count": 686,
     "metadata": {},
     "output_type": "execute_result"
    }
   ],
   "source": [
    "len(df[df['Feet From Curb'] == 0])"
   ]
  },
  {
   "cell_type": "code",
   "execution_count": 682,
   "metadata": {},
   "outputs": [
    {
     "data": {
      "text/plain": [
       "array([ 0,  1,  3,  2,  5, 10,  8,  7,  6,  4, 16, 12, 11,  9, 13, 15, 14])"
      ]
     },
     "execution_count": 682,
     "metadata": {},
     "output_type": "execute_result"
    }
   ],
   "source": [
    "df['Feet From Curb'].unique()"
   ]
  },
  {
   "cell_type": "markdown",
   "metadata": {},
   "source": [
    "## Violation Post Code"
   ]
  },
  {
   "cell_type": "markdown",
   "metadata": {},
   "source": [
    "**Mostly missing values.**  \n",
    "Action: DROP"
   ]
  },
  {
   "cell_type": "code",
   "execution_count": 683,
   "metadata": {},
   "outputs": [
    {
     "data": {
      "text/plain": [
       "True"
      ]
     },
     "execution_count": 683,
     "metadata": {},
     "output_type": "execute_result"
    }
   ],
   "source": [
    "df['Violation Post Code'].isna().any()"
   ]
  },
  {
   "cell_type": "code",
   "execution_count": 684,
   "metadata": {},
   "outputs": [
    {
     "data": {
      "text/plain": [
       "1785590"
      ]
     },
     "execution_count": 684,
     "metadata": {},
     "output_type": "execute_result"
    }
   ],
   "source": [
    "len(df[df['Violation Post Code'].isna()])"
   ]
  },
  {
   "cell_type": "code",
   "execution_count": 688,
   "metadata": {},
   "outputs": [
    {
     "data": {
      "text/plain": [
       "38010    31\n",
       "38011    31\n",
       "38012    63\n",
       "38013    63\n",
       "38014    63\n",
       "Name: Violation Post Code, dtype: object"
      ]
     },
     "execution_count": 688,
     "metadata": {},
     "output_type": "execute_result"
    }
   ],
   "source": [
    "df['Violation Post Code'].dropna().head()"
   ]
  },
  {
   "cell_type": "markdown",
   "metadata": {},
   "source": [
    "## Violation Description"
   ]
  },
  {
   "cell_type": "markdown",
   "metadata": {},
   "source": [
    "**Mostly missing values.**  \n",
    "Action: DROP especially since we can get the correct description from the Violation Codes Dataset!"
   ]
  },
  {
   "cell_type": "code",
   "execution_count": 689,
   "metadata": {},
   "outputs": [
    {
     "data": {
      "text/plain": [
       "True"
      ]
     },
     "execution_count": 689,
     "metadata": {},
     "output_type": "execute_result"
    }
   ],
   "source": [
    "df['Violation Description'].isna().any()"
   ]
  },
  {
   "cell_type": "code",
   "execution_count": 690,
   "metadata": {},
   "outputs": [
    {
     "data": {
      "text/plain": [
       "3547168"
      ]
     },
     "execution_count": 690,
     "metadata": {},
     "output_type": "execute_result"
    }
   ],
   "source": [
    "len(df[df['Violation Description'].isna()])"
   ]
  },
  {
   "cell_type": "code",
   "execution_count": 692,
   "metadata": {},
   "outputs": [
    {
     "data": {
      "text/plain": [
       "2221    BUS LANE VIOLATION\n",
       "2481    BUS LANE VIOLATION\n",
       "2771    BUS LANE VIOLATION\n",
       "2869    BUS LANE VIOLATION\n",
       "3062    BUS LANE VIOLATION\n",
       "Name: Violation Description, dtype: object"
      ]
     },
     "execution_count": 692,
     "metadata": {},
     "output_type": "execute_result"
    }
   ],
   "source": [
    "df['Violation Description'].dropna().head()"
   ]
  },
  {
   "cell_type": "markdown",
   "metadata": {},
   "source": [
    "## No Standing or Stopping Violation"
   ]
  },
  {
   "cell_type": "markdown",
   "metadata": {},
   "source": [
    "**All are missing values.**  \n",
    "Action: DROP"
   ]
  },
  {
   "cell_type": "code",
   "execution_count": 693,
   "metadata": {},
   "outputs": [
    {
     "data": {
      "text/plain": [
       "True"
      ]
     },
     "execution_count": 693,
     "metadata": {},
     "output_type": "execute_result"
    }
   ],
   "source": [
    "df['No Standing or Stopping Violation'].isna().any()"
   ]
  },
  {
   "cell_type": "code",
   "execution_count": 694,
   "metadata": {},
   "outputs": [
    {
     "data": {
      "text/plain": [
       "4984034"
      ]
     },
     "execution_count": 694,
     "metadata": {},
     "output_type": "execute_result"
    }
   ],
   "source": [
    "len(df[df['No Standing or Stopping Violation'].isna()])"
   ]
  },
  {
   "cell_type": "code",
   "execution_count": 695,
   "metadata": {},
   "outputs": [
    {
     "data": {
      "text/plain": [
       "array([nan])"
      ]
     },
     "execution_count": 695,
     "metadata": {},
     "output_type": "execute_result"
    }
   ],
   "source": [
    "df['No Standing or Stopping Violation'].unique()"
   ]
  },
  {
   "cell_type": "markdown",
   "metadata": {},
   "source": [
    "## Hydrant Violation"
   ]
  },
  {
   "cell_type": "markdown",
   "metadata": {},
   "source": [
    "**All are missing values.**  \n",
    "Action: DROP"
   ]
  },
  {
   "cell_type": "code",
   "execution_count": 696,
   "metadata": {},
   "outputs": [
    {
     "data": {
      "text/plain": [
       "True"
      ]
     },
     "execution_count": 696,
     "metadata": {},
     "output_type": "execute_result"
    }
   ],
   "source": [
    "df['Hydrant Violation'].isna().any()"
   ]
  },
  {
   "cell_type": "code",
   "execution_count": 697,
   "metadata": {},
   "outputs": [
    {
     "data": {
      "text/plain": [
       "4984034"
      ]
     },
     "execution_count": 697,
     "metadata": {},
     "output_type": "execute_result"
    }
   ],
   "source": [
    "len(df[df['Hydrant Violation'].isna()])"
   ]
  },
  {
   "cell_type": "code",
   "execution_count": 698,
   "metadata": {},
   "outputs": [
    {
     "data": {
      "text/plain": [
       "array([nan])"
      ]
     },
     "execution_count": 698,
     "metadata": {},
     "output_type": "execute_result"
    }
   ],
   "source": [
    "df['Hydrant Violation'].unique()"
   ]
  },
  {
   "cell_type": "markdown",
   "metadata": {},
   "source": [
    "## Double Parking Violation"
   ]
  },
  {
   "cell_type": "markdown",
   "metadata": {},
   "source": [
    "**All are missing values.**  \n",
    "Action: DROP"
   ]
  },
  {
   "cell_type": "code",
   "execution_count": 699,
   "metadata": {},
   "outputs": [
    {
     "data": {
      "text/plain": [
       "True"
      ]
     },
     "execution_count": 699,
     "metadata": {},
     "output_type": "execute_result"
    }
   ],
   "source": [
    "df['Double Parking Violation'].isna().any()"
   ]
  },
  {
   "cell_type": "code",
   "execution_count": 700,
   "metadata": {},
   "outputs": [
    {
     "data": {
      "text/plain": [
       "4984034"
      ]
     },
     "execution_count": 700,
     "metadata": {},
     "output_type": "execute_result"
    }
   ],
   "source": [
    "len(df[df['Double Parking Violation'].isna()])"
   ]
  },
  {
   "cell_type": "code",
   "execution_count": 701,
   "metadata": {},
   "outputs": [
    {
     "data": {
      "text/plain": [
       "array([nan])"
      ]
     },
     "execution_count": 701,
     "metadata": {},
     "output_type": "execute_result"
    }
   ],
   "source": [
    "df['Double Parking Violation'].unique()"
   ]
  }
 ],
 "metadata": {
  "kernelspec": {
   "display_name": "Python 3",
   "language": "python",
   "name": "python3"
  },
  "language_info": {
   "codemirror_mode": {
    "name": "ipython",
    "version": 3
   },
   "file_extension": ".py",
   "mimetype": "text/x-python",
   "name": "python",
   "nbconvert_exporter": "python",
   "pygments_lexer": "ipython3",
   "version": "3.7.5"
  }
 },
 "nbformat": 4,
 "nbformat_minor": 2
}
